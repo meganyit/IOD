{
 "cells": [
  {
   "cell_type": "code",
   "execution_count": 3,
   "metadata": {},
   "outputs": [
    {
     "data": {
      "text/plain": [
       "23"
      ]
     },
     "execution_count": 3,
     "metadata": {},
     "output_type": "execute_result"
    }
   ],
   "source": [
    "# Sum67 problem (for a list of numbers, sum them all up unless the number falls between the elements '6' and '7')\n",
    "# element '6' will always be followed by '7'\n",
    "def sum67(nums):\n",
    "  total = 0 #initialze variable to add to sum\n",
    "  is_zone = False #initialize checker\n",
    "  for num in nums:\n",
    "    if not is_zone and num != 6:\n",
    "      total += num\n",
    "    elif num == 7: #exit the zone\n",
    "      is_zone = False\n",
    "    elif num == 6: #enter the zone\n",
    "      is_zone = True\n",
    "  return total\n",
    "\n",
    "nums = [1,2,3,4,5,6,5,4,7,8]\n",
    "sum67(nums)"
   ]
  },
  {
   "cell_type": "code",
   "execution_count": null,
   "metadata": {},
   "outputs": [],
   "source": []
  }
 ],
 "metadata": {
  "kernelspec": {
   "display_name": "Python 3",
   "language": "python",
   "name": "python3"
  },
  "language_info": {
   "codemirror_mode": {
    "name": "ipython",
    "version": 3
   },
   "file_extension": ".py",
   "mimetype": "text/x-python",
   "name": "python",
   "nbconvert_exporter": "python",
   "pygments_lexer": "ipython3",
   "version": "3.8.5"
  }
 },
 "nbformat": 4,
 "nbformat_minor": 4
}
