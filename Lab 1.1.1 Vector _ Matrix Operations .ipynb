{
 "cells": [
  {
   "cell_type": "markdown",
   "metadata": {
    "colab_type": "text",
    "id": "emj1GNgIT3CB"
   },
   "source": [
    "<div>\n",
    "<img src=https://www.institutedata.com/wp-content/uploads/2019/10/iod_h_tp_primary_c.svg width=\"300\">\n",
    "</div>"
   ]
  },
  {
   "cell_type": "markdown",
   "metadata": {
    "colab_type": "text",
    "id": "FvN6xzeyT3CC"
   },
   "source": [
    "1. Compute the scaler product of two vectors\n",
    "\n",
    "> In mathematics, the dot product or scalar product is an algebraic operation that takes two equal-length sequences of numbers (usually coordinate vectors) and returns a single number. \n",
    "\n",
    "> we can calculate it this way:\n",
    "\n",
    "        a · b = ax × bx + ay × by\n",
    "        \n",
    "Hint: [Dot Product](https://www.mathsisfun.com/algebra/vectors-dot-product.html)"
   ]
  },
  {
   "cell_type": "code",
   "execution_count": 28,
   "metadata": {
    "ExecuteTime": {
     "end_time": "2019-06-27T03:58:34.200170Z",
     "start_time": "2019-06-27T03:58:34.196182Z"
    },
    "colab": {},
    "colab_type": "code",
    "id": "JkwM7G3IT3CD"
   },
   "outputs": [],
   "source": [
    "import numpy as np"
   ]
  },
  {
   "cell_type": "code",
   "execution_count": 29,
   "metadata": {
    "ExecuteTime": {
     "end_time": "2019-06-27T04:56:56.317427Z",
     "start_time": "2019-06-27T04:56:56.313425Z"
    },
    "colab": {},
    "colab_type": "code",
    "id": "rsOPN02pT3CG"
   },
   "outputs": [],
   "source": [
    "a = [-12, 16]\n",
    "b = [12, 9]"
   ]
  },
  {
   "cell_type": "code",
   "execution_count": 30,
   "metadata": {},
   "outputs": [
    {
     "name": "stdout",
     "output_type": "stream",
     "text": [
      "-12\n"
     ]
    }
   ],
   "source": [
    "#test\n",
    "print(a[0])"
   ]
  },
  {
   "cell_type": "code",
   "execution_count": 31,
   "metadata": {},
   "outputs": [
    {
     "name": "stdout",
     "output_type": "stream",
     "text": [
      "0\n"
     ]
    }
   ],
   "source": [
    "#answer1\n",
    "a_dot_b = (a[0]*b[0]) + (a[1]*b[1])\n",
    "print(a_dot_b)"
   ]
  },
  {
   "cell_type": "code",
   "execution_count": 32,
   "metadata": {},
   "outputs": [
    {
     "name": "stdout",
     "output_type": "stream",
     "text": [
      "[(-12, 12), (16, 9)]\n"
     ]
    }
   ],
   "source": [
    "print(list(zip(a,b)))"
   ]
  },
  {
   "cell_type": "code",
   "execution_count": 33,
   "metadata": {},
   "outputs": [
    {
     "data": {
      "text/plain": [
       "0"
      ]
     },
     "execution_count": 33,
     "metadata": {},
     "output_type": "execute_result"
    }
   ],
   "source": [
    "#answer2\n",
    "def dot_pdt_of(vector1, vector2):\n",
    "#where vector1 and vector2 are LISTS\n",
    "\n",
    "    return sum(\n",
    "        element1n*element2n\n",
    "        for element1n, element2n in zip(vector1,vector2)\n",
    "    )\n",
    "\n",
    "\n",
    "dot_pdt_of(a,b)"
   ]
  },
  {
   "cell_type": "markdown",
   "metadata": {
    "ExecuteTime": {
     "end_time": "2019-06-27T03:59:49.939731Z",
     "start_time": "2019-06-27T03:59:49.934711Z"
    },
    "colab_type": "text",
    "id": "cIamVopdT3CI"
   },
   "source": [
    "2. Compute the cross product of two vectors\n",
    "\n",
    "> When a and b start at the origin point (0,0,0), the Cross Product will end at:\n",
    "\n",
    "        cx = aybz − azby\n",
    "        cy = azbx − axbz\n",
    "        cz = axby − aybx\n",
    "        \n",
    "Hint: [Cross Product](https://www.mathsisfun.com/algebra/vectors-cross-product.html)"
   ]
  },
  {
   "cell_type": "code",
   "execution_count": 34,
   "metadata": {
    "ExecuteTime": {
     "end_time": "2019-06-27T04:56:59.994576Z",
     "start_time": "2019-06-27T04:56:59.987594Z"
    },
    "colab": {},
    "colab_type": "code",
    "id": "L9FjAAzNT3CJ"
   },
   "outputs": [],
   "source": [
    "x = np.array([[1,2,3], [4,5,6]])\n",
    "y = np.array([[4,5,6], [1,2,3]])"
   ]
  },
  {
   "cell_type": "code",
   "execution_count": 35,
   "metadata": {},
   "outputs": [
    {
     "name": "stdout",
     "output_type": "stream",
     "text": [
      "2\n"
     ]
    }
   ],
   "source": [
    "#test\n",
    "print(x[0,1])"
   ]
  },
  {
   "cell_type": "code",
   "execution_count": 36,
   "metadata": {},
   "outputs": [
    {
     "name": "stdout",
     "output_type": "stream",
     "text": [
      "cross pdt of x is : [[-3  6 -3]]\n",
      "cross pdt of y is : [[ 3 -6  3]]\n"
     ]
    }
   ],
   "source": [
    "cross_x_cx = (x[0,1]*x[1,2]) - (x[0,2]*x[1,1])\n",
    "cross_x_cy = (x[0,2]*x[1,0]) - (x[0,0]*x[1,2])\n",
    "cross_x_cz = (x[0,0]*x[1,1]) - (x[0,1]*x[1,0])\n",
    "cross_x = np.array([[cross_x_cx, cross_x_cy, cross_x_cz]])\n",
    "print(\"cross pdt of x is :\", cross_x)\n",
    "\n",
    "cross_y_cx = (y[0,1]*y[1,2]) - (y[0,2]*y[1,1])\n",
    "cross_y_cy = (y[0,2]*y[1,0]) - (y[0,0]*y[1,2])\n",
    "cross_y_cz = (y[0,0]*y[1,1]) - (y[0,1]*y[1,0])\n",
    "cross_y = np.array([[cross_y_cx, cross_y_cy, cross_y_cz]])\n",
    "print(\"cross pdt of y is :\", cross_y)"
   ]
  },
  {
   "cell_type": "code",
   "execution_count": 37,
   "metadata": {},
   "outputs": [
    {
     "name": "stdout",
     "output_type": "stream",
     "text": [
      "cross pdt of  [[2 8 1]\n",
      " [3 4 7]]  is :  [[ 52 -11 -16]]\n",
      "cross pdt of  [[1 2 3]\n",
      " [4 5 6]]  is :  [[-3  6 -3]]\n",
      "None\n"
     ]
    }
   ],
   "source": [
    "def cross_pdt_of(arr):\n",
    "#where x is nparray of 2 vectors\n",
    "    cross_pdt_x = (arr[0,1]*arr[1,2]) - (arr[0,2]*arr[1,1])\n",
    "    cross_pdt_y = (arr[0,2]*arr[1,0]) - (arr[0,0]*arr[1,2])\n",
    "    cross_pdt_z = (arr[0,0]*arr[1,1]) - (arr[0,1]*arr[1,0])\n",
    "    print(\"cross pdt of \", arr, \" is : \", np.array([[cross_pdt_x, cross_pdt_y, cross_pdt_z]]))\n",
    "  \n",
    "#if given indiv vectors as lists instead of combined nparray?\n",
    "sample_vector1_as_list = [2,8,1]\n",
    "sample_vector2_as_list = [3,4,7]\n",
    "sample_arr = np.array([sample_vector1_as_list, sample_vector2_as_list])\n",
    "cross_pdt_of(sample_arr)\n",
    "\n",
    "print(cross_pdt_of(x))"
   ]
  },
  {
   "cell_type": "markdown",
   "metadata": {
    "colab_type": "text",
    "id": "2M2dKNL-T3CL"
   },
   "source": [
    "3. Compute the Hademard product (entry-wise multiplication) of two vectors.\n",
    "\n",
    "> In mathematics, the Hadamard product (also known as the Schur product[1] or the entrywise product[2]:ch. 5) is a binary operation that takes two matrices of the same dimensions and produces another matrix of the same dimension as the operands where each element i, j is the product of elements i, j of the original two matrices. It should not be confused with the more common matrix product. It is attributed to, and named after, either French mathematician Jacques Hadamard or German mathematician Issai Schur. [Wiki](https://en.wikipedia.org/wiki/Hadamard_product_(matrices))\n",
    "\n",
    "![](https://wikimedia.org/api/rest_v1/media/math/render/svg/4eb9bb54b2820fb3583901ec05bc4b474b6d90bc)"
   ]
  },
  {
   "cell_type": "code",
   "execution_count": 39,
   "metadata": {
    "ExecuteTime": {
     "end_time": "2019-06-27T04:57:06.480263Z",
     "start_time": "2019-06-27T04:57:06.474279Z"
    },
    "colab": {},
    "colab_type": "code",
    "id": "WnDQY9MyT3CM"
   },
   "outputs": [],
   "source": [
    "a = np.array([[1,2],[3,4]])\n",
    "b = np.array([[5,6],[7,8]])"
   ]
  },
  {
   "cell_type": "code",
   "execution_count": 48,
   "metadata": {},
   "outputs": [
    {
     "name": "stdout",
     "output_type": "stream",
     "text": [
      "[[ 5 12]\n",
      " [21 32]]\n"
     ]
    }
   ],
   "source": [
    "#answer1\n",
    "hadamard_ab_00 = a[0,0]*b[0,0]\n",
    "hadamard_ab_01 = a[0,1]*b[0,1]\n",
    "hadamard_ab_10 = a[1,0]*b[1,0]\n",
    "hadamard_ab_11 = a[1,1]*b[1,1]\n",
    "\n",
    "hadamard_ab = np.array([[hadamard_ab_00, hadamard_ab_01], [hadamard_ab_10, hadamard_ab_11]])\n",
    "print(hadamard_ab)"
   ]
  },
  {
   "cell_type": "code",
   "execution_count": 56,
   "metadata": {},
   "outputs": [
    {
     "data": {
      "text/plain": [
       "array([[5, 12],\n",
       "       [21, 32]], dtype=object)"
      ]
     },
     "execution_count": 56,
     "metadata": {},
     "output_type": "execute_result"
    }
   ],
   "source": [
    "#answer2\n",
    "def hadamard_pdt_of(matrix1, matrix2):\n",
    "#where matrix1 and matrix2 are nparrays\n",
    "\n",
    "    for m1, m2 in matrix1, matrix2:\n",
    "        \n",
    "        list_output = np.multiply(matrix1,matrix2, dtype=list)\n",
    "        #np.multiply used to compute multiplication of 2 arrays\n",
    "        #returns pdt of arr1 and arr2, element-wise\n",
    "        \n",
    "        return(np.array(list_output))\n",
    "\n",
    "hadamard_pdt_of(a,b)"
   ]
  },
  {
   "cell_type": "markdown",
   "metadata": {
    "colab_type": "text",
    "id": "b1ZR2J8HT3CO"
   },
   "source": [
    "4. Compute the sum of two matrices.\n",
    "(https://wikimedia.org/api/rest_v1/media/math/render/svg/0fb7845af355c550d44020e52699069c044126a9)"
   ]
  },
  {
   "cell_type": "code",
   "execution_count": 72,
   "metadata": {
    "ExecuteTime": {
     "end_time": "2019-06-27T04:57:13.225605Z",
     "start_time": "2019-06-27T04:57:13.214634Z"
    },
    "colab": {},
    "colab_type": "code",
    "id": "ulBVhGDET3CP"
   },
   "outputs": [],
   "source": [
    "# Program to add two matrices using nested loop\n",
    "\n",
    "X = [[12,7,3],\n",
    "    [4 ,5,6],\n",
    "    [7 ,8,9]]\n",
    "\n",
    "Y = [[5,8,1],\n",
    "    [6,7,3],\n",
    "    [4,5,9]]\n",
    "\n",
    "#result = [[0,0,0], [0,0,0], [0,0,0]]"
   ]
  },
  {
   "cell_type": "code",
   "execution_count": 76,
   "metadata": {},
   "outputs": [
    {
     "name": "stdout",
     "output_type": "stream",
     "text": [
      "[[17 15  4]\n",
      " [10 12  9]\n",
      " [11 13 18]]\n"
     ]
    }
   ],
   "source": [
    "#test\n",
    "Xarr, Yarr = np.array(X), np.array(Y)\n",
    "result = np.add(Xarr, Yarr)\n",
    "print(result)"
   ]
  },
  {
   "cell_type": "code",
   "execution_count": 115,
   "metadata": {},
   "outputs": [
    {
     "name": "stdout",
     "output_type": "stream",
     "text": [
      "[3, 4, 5]\n"
     ]
    }
   ],
   "source": [
    "#test\n",
    "\n",
    "C = [1,2,3]\n",
    "D = [2,2,2]\n",
    "\n",
    "result = [] #initiate empty list\n",
    "\n",
    "for column_c, column_d in zip(C,D):\n",
    "    result.append(column_c + column_d)\n",
    "#zip function creates zip object: iterator of tuples\n",
    "#each tuple: first item of each passed iterator is paired tgt\n",
    "\n",
    "\n",
    "print(result) #should be [3,4,5]"
   ]
  },
  {
   "cell_type": "code",
   "execution_count": 121,
   "metadata": {},
   "outputs": [
    {
     "name": "stdout",
     "output_type": "stream",
     "text": [
      "[[17, 15, 4], [10, 12, 9], [11, 13, 18]]\n"
     ]
    }
   ],
   "source": [
    "#answer - using nested loop (loop within loop)\n",
    "\n",
    "#for every row, iterate through every column (element) to create list\n",
    "#result = list of lists\n",
    "\n",
    "new_matrix = []\n",
    "for row_x, row_y in zip(X, Y):\n",
    "    \n",
    "    new_row = [] #initiate empty list\n",
    "    for column_x, column_y in zip(row_x, row_y):\n",
    "        \n",
    "        new_row.append(column_x + column_y)\n",
    "    \n",
    "    new_matrix.append(new_row)\n",
    "\n",
    "print(new_matrix)\n"
   ]
  },
  {
   "cell_type": "markdown",
   "metadata": {
    "ExecuteTime": {
     "end_time": "2019-06-27T04:04:23.509007Z",
     "start_time": "2019-06-27T04:04:23.503018Z"
    },
    "colab_type": "text",
    "id": "CZFVdvEhT3CS"
   },
   "source": [
    "5. Compute the product of two matrices.\n",
    "\n",
    "![](https://upload.wikimedia.org/wikipedia/commons/e/eb/Matrix_multiplication_diagram_2.svg)"
   ]
  },
  {
   "cell_type": "code",
   "execution_count": 122,
   "metadata": {
    "ExecuteTime": {
     "end_time": "2019-06-27T04:57:19.425749Z",
     "start_time": "2019-06-27T04:57:19.412783Z"
    },
    "colab": {},
    "colab_type": "code",
    "id": "2cwCXjx_T3CT"
   },
   "outputs": [],
   "source": [
    "# Program to multiply two matrices using nested loops\n",
    "\n",
    "# 3x3 matrix\n",
    "X = [[12,7,3],\n",
    "    [4,5,6],\n",
    "    [7,8,9]]\n",
    "\n",
    "# 3x4 matrix\n",
    "Y = [[5,8,1,2],\n",
    "    [6,7,3,0],\n",
    "    [4,5,9,1]]\n",
    "\n",
    "# result is 3x4\n",
    "#result = [[0,0,0,0], [0,0,0,0], [0,0,0,0]]"
   ]
  },
  {
   "cell_type": "code",
   "execution_count": 123,
   "metadata": {},
   "outputs": [
    {
     "data": {
      "text/plain": [
       "array([[114, 160,  60,  27],\n",
       "       [ 74,  97,  73,  14],\n",
       "       [119, 157, 112,  23]])"
      ]
     },
     "execution_count": 123,
     "metadata": {},
     "output_type": "execute_result"
    }
   ],
   "source": [
    "#test\n",
    "Xarr = np.array(X)\n",
    "Yarr = np.array(Y)\n",
    "np.matmul(Xarr, Yarr)"
   ]
  },
  {
   "cell_type": "code",
   "execution_count": 136,
   "metadata": {},
   "outputs": [
    {
     "name": "stdout",
     "output_type": "stream",
     "text": [
      "[[114, 160, 60, 27], [74, 97, 73, 14], [119, 157, 112, 23]]\n"
     ]
    }
   ],
   "source": [
    "#answer - using nested loop (loop within loop)\n",
    "\n",
    "#for every row of X, iterate through every row (of one column) of Y to create list\n",
    "#result = list of lists\n",
    "\n",
    "#steps\n",
    "#1: (all elements in) ONE row of X\n",
    "#2: multiplied against (all elements in) ALL columns of Y\n",
    "#3: zoom in >>> for ONE column of Y >>> each row_x element * column_y element\n",
    "\n",
    "#need to use \"range\" because involves indexing\n",
    "\n",
    "new_matrix = [] #initiate empty list\n",
    "for a in range(len(X)): #every \"a\" in X refers to one element in list X i.e. one \"row\"\n",
    "\n",
    "    new_row = [] \n",
    "    for b in range(len(Y[0])): #len(Y[0]) = no. of columns /// vs /// len(Y) = no. of rows\n",
    "        \n",
    "        accummulated_sum = 0\n",
    "        for c in range(len(Y)):\n",
    "            component = (X[a][c] * Y[c][b])\n",
    "            accummulated_sum = accummulated_sum + component\n",
    "            \n",
    "        new_row.append(accummulated_sum)\n",
    "    \n",
    "    new_matrix.append(new_row)\n",
    "\n",
    "print(new_matrix)\n"
   ]
  },
  {
   "cell_type": "markdown",
   "metadata": {
    "colab_type": "text",
    "id": "zxe0vdBVT3CV"
   },
   "source": [
    "6. Compute the determinant of an n x n matrix.\n",
    "\n",
    "![](https://integratedmlai.com/wp-content/uploads/2018/12/Matrix_Det_2x2.png)\n",
    "\n",
    "Hint: [Find the Determinant of a Matrix with Pure Python without Numpy or Scipy](https://integratedmlai.com/find-the-determinant-of-a-matrix-with-pure-python-without-numpy-or-scipy/)\n",
    "\n",
    "Hint: Use \n",
    "> np.linalg.det"
   ]
  },
  {
   "cell_type": "code",
   "execution_count": 137,
   "metadata": {
    "ExecuteTime": {
     "end_time": "2019-06-27T04:58:00.140277Z",
     "start_time": "2019-06-27T04:58:00.135291Z"
    },
    "colab": {},
    "colab_type": "code",
    "id": "7SpAPh-5T3CW"
   },
   "outputs": [],
   "source": [
    "matrix = [[-2,2,-3],\n",
    "          [-1,1,3],\n",
    "          [2,0,-1]]"
   ]
  },
  {
   "cell_type": "code",
   "execution_count": 139,
   "metadata": {},
   "outputs": [
    {
     "name": "stdout",
     "output_type": "stream",
     "text": [
      "17.999999999999996\n"
     ]
    }
   ],
   "source": [
    "#compute for nxn matrix not 3x3\n",
    "#using np.linalg.det which computes determinant of array\n",
    "det = np.linalg.det(matrix) #where matrix can be any nxn matrix\n",
    "print(det)"
   ]
  },
  {
   "cell_type": "markdown",
   "metadata": {
    "colab_type": "text",
    "id": "vUC6L5r1T3Ca"
   },
   "source": [
    "7. Compute the inverse of an n x n matrix.\n",
    "\n",
    "For a 3×3 matrix\n",
    "\n",
    "![](http://mathworld.wolfram.com/images/equations/MatrixInverse/NumberedEquation3.gif)\n",
    "\n",
    "the matrix inverse is\n",
    "\n",
    "![](http://mathworld.wolfram.com/images/equations/MatrixInverse/NumberedEquation4.gif)\n",
    "\n",
    "Hint: Use \n",
    "> from numpy.linalg import inv"
   ]
  },
  {
   "cell_type": "code",
   "execution_count": 140,
   "metadata": {
    "ExecuteTime": {
     "end_time": "2019-06-27T04:58:33.615832Z",
     "start_time": "2019-06-27T04:58:33.609848Z"
    },
    "colab": {},
    "colab_type": "code",
    "id": "qGxUYlMWT3Cb"
   },
   "outputs": [],
   "source": [
    "a = np.array([[1., 2.], [3., 4.]])"
   ]
  },
  {
   "cell_type": "code",
   "execution_count": 143,
   "metadata": {},
   "outputs": [
    {
     "name": "stdout",
     "output_type": "stream",
     "text": [
      "[[-2.   1. ]\n",
      " [ 1.5 -0.5]]\n"
     ]
    }
   ],
   "source": [
    "from numpy.linalg import inv\n",
    "#linalg.inv() computes multiplicative inverse of square matrix\n",
    "#matrix needs to satisfy: dot(a, ainv) = dot(ainv, a) = eye(a.shape[0])\n",
    "    #dot(a, ainv) = dot(ainv,a) --> it's a square matrix\n",
    "    #.shape attribute --> returns no. of rows and columns as tuple\n",
    "    #.shape[0] --> accesses no. of rows out of that tuple ^\n",
    "    #np.eye --> pass a number n into this, get identity matrix with n rows and n columns\n",
    "\n",
    "inv_a = np.linalg.inv(a)\n",
    "print(inv_a)"
   ]
  },
  {
   "cell_type": "markdown",
   "metadata": {
    "colab_type": "text",
    "id": "f52z_umQpL1V"
   },
   "source": [
    "\n",
    "\n",
    "---\n",
    "\n",
    "\n",
    "\n",
    "---\n",
    "\n",
    "\n",
    "\n",
    "> > > > > > > > > © 2021 Institute of Data\n",
    "\n",
    "\n",
    "---\n",
    "\n",
    "\n",
    "\n",
    "---\n",
    "\n",
    "\n",
    "\n"
   ]
  }
 ],
 "metadata": {
  "colab": {
   "collapsed_sections": [],
   "name": "Lab 1.1.1 Vector & Matrix Operations .ipynb",
   "provenance": []
  },
  "kernelspec": {
   "display_name": "Python 3",
   "language": "python",
   "name": "python3"
  },
  "language_info": {
   "codemirror_mode": {
    "name": "ipython",
    "version": 3
   },
   "file_extension": ".py",
   "mimetype": "text/x-python",
   "name": "python",
   "nbconvert_exporter": "python",
   "pygments_lexer": "ipython3",
   "version": "3.8.5"
  }
 },
 "nbformat": 4,
 "nbformat_minor": 1
}
