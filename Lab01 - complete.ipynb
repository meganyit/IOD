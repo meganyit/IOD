{
 "cells": [
  {
   "cell_type": "markdown",
   "metadata": {
    "colab_type": "text",
    "id": "7KeNKtNL2Ix-"
   },
   "source": [
    "<div>\n",
    "<img src=https://www.institutedata.com/wp-content/uploads/2019/10/iod_h_tp_primary_c.svg width=\"300\">\n",
    "</div>\n",
    "\n",
    "# Python - Lab 1 \n",
    "\n",
    "## Learning objectives\n",
    "\n",
    "This lab demonstrates examples of: \n",
    "\n",
    "1. Creating and manipulating lists\n",
    "2. For loops\n",
    "3. Importing modules and functions\n",
    "4. Creating dictonaries\n",
    "\n",
    "## Instructions:\n",
    "\n",
    "1. Replace ??? with the appropriate code\n",
    "2. Press Shift + Enter to execute cell\n",
    "\n"
   ]
  },
  {
   "cell_type": "code",
   "execution_count": 89,
   "metadata": {
    "colab": {},
    "colab_type": "code",
    "id": "NaRcNY1l2LbD"
   },
   "outputs": [
    {
     "name": "stdout",
     "output_type": "stream",
     "text": [
      "['Amanda', 'Beatrice', 'Celeste', 'Dion', 'Ethan', 'Fiona', 'Greg', 'Holly', 'Ivy', 'Justin']\n"
     ]
    }
   ],
   "source": [
    "# create a list of 10 student (use just first name)\n",
    "students1 = ['amanda','beatrice','Celeste','Dion','Ethan','Fiona','Greg','Holly','Ivy','Justin']\n",
    "\n",
    "#since not all names capitalized, CREATE NEW LIST with capitalized names\n",
    "students = [student.capitalize() for student in students1]\n",
    "print(students)"
   ]
  },
  {
   "cell_type": "code",
   "execution_count": 22,
   "metadata": {
    "colab": {},
    "colab_type": "code",
    "id": "lyMlOgoUZ2R4",
    "scrolled": true
   },
   "outputs": [
    {
     "name": "stdout",
     "output_type": "stream",
     "text": [
      "['Amanda', 'Beatrice', 'Celeste', 'Dion', 'Ethan', 'Fiona', 'Greg', 'Holly', 'Ivy', 'Justin']\n"
     ]
    }
   ],
   "source": [
    "# Print the list\n",
    "print(students)"
   ]
  },
  {
   "cell_type": "code",
   "execution_count": 48,
   "metadata": {
    "colab": {},
    "colab_type": "code",
    "id": "LtbLA_T811kr",
    "scrolled": true
   },
   "outputs": [
    {
     "name": "stdout",
     "output_type": "stream",
     "text": [
      "Index 01 Amanda\n",
      "Index 02 Beatrice\n",
      "Index 03 Celeste\n",
      "Index 04 Dion\n",
      "Index 05 Ethan\n",
      "Index 06 Fiona\n",
      "Index 07 Greg\n",
      "Index 08 Holly\n",
      "Index 09 Ivy\n",
      "Index 10 Justin\n"
     ]
    }
   ],
   "source": [
    "# print the list of students\n",
    "# in the following format\n",
    "# Index 01 \t Alice\n",
    "# Index 02 \t Bob\n",
    "# Index 03 \t Pradeep\n",
    "for student in students:\n",
    "    print(f\"Index {(students.index(student)+1):02} {student}\")"
   ]
  },
  {
   "cell_type": "code",
   "execution_count": 77,
   "metadata": {},
   "outputs": [
    {
     "name": "stdout",
     "output_type": "stream",
     "text": [
      "Index 01 -> Amanda\n",
      "Index 02 -> Beatrice\n",
      "Index 03 -> Celeste\n",
      "Index 04 -> Dion\n",
      "Index 05 -> Ethan\n",
      "Index 06 -> Fiona\n",
      "Index 07 -> Greg\n",
      "Index 08 -> Holly\n",
      "Index 09 -> Ivy\n",
      "Index 10 -> Justin\n"
     ]
    }
   ],
   "source": [
    "for index, name in enumerate(students):\n",
    "    print(\"Index %02d -> \" %(index+1) + name)"
   ]
  },
  {
   "cell_type": "code",
   "execution_count": 50,
   "metadata": {
    "colab": {},
    "colab_type": "code",
    "id": "OF5sj3CX1lHl"
   },
   "outputs": [
    {
     "name": "stdout",
     "output_type": "stream",
     "text": [
      "Index 10 Justin\n",
      "Index 09 Ivy\n",
      "Index 08 Holly\n",
      "Index 07 Greg\n",
      "Index 06 Fiona\n",
      "Index 05 Ethan\n",
      "Index 04 Dion\n",
      "Index 03 Celeste\n",
      "Index 02 Beatrice\n",
      "Index 01 Amanda\n"
     ]
    }
   ],
   "source": [
    "# print the list of students in reverse order one student in a line with its index\n",
    "for student in reversed(students):\n",
    "    print(f\"Index {(students.index(student)+1):02} {student}\")"
   ]
  },
  {
   "cell_type": "code",
   "execution_count": 78,
   "metadata": {},
   "outputs": [
    {
     "name": "stdout",
     "output_type": "stream",
     "text": [
      "Index 10 -> Justin\n",
      "Index 09 -> Ivy\n",
      "Index 08 -> Holly\n",
      "Index 07 -> Greg\n",
      "Index 06 -> Fiona\n",
      "Index 05 -> Ethan\n",
      "Index 04 -> Dion\n",
      "Index 03 -> Celeste\n",
      "Index 02 -> Beatrice\n",
      "Index 01 -> Amanda\n"
     ]
    }
   ],
   "source": [
    "for index, name in reversed(list(enumerate(students))):\n",
    "    print(\"Index %02d -> \" %(index+1) + name)"
   ]
  },
  {
   "cell_type": "code",
   "execution_count": 16,
   "metadata": {
    "colab": {},
    "colab_type": "code",
    "id": "eAdtim4G1pyV"
   },
   "outputs": [
    {
     "name": "stdout",
     "output_type": "stream",
     "text": [
      "['Justin', 'Amanda', 'Ethan', 'Beatrice', 'Holly', 'Dion', 'Ivy', 'Celeste', 'Fiona', 'Greg']\n"
     ]
    }
   ],
   "source": [
    "# print the student list in random order\n",
    "# hint look up the function random.sample\n",
    "import random\n",
    "print(random.sample(students,len(students)))\n"
   ]
  },
  {
   "cell_type": "code",
   "execution_count": 51,
   "metadata": {
    "colab": {},
    "colab_type": "code",
    "id": "sfKkL5dt1tqG",
    "scrolled": true
   },
   "outputs": [
    {
     "name": "stdout",
     "output_type": "stream",
     "text": [
      "Fiona : 90 marks\n",
      "Amanda : 87 marks\n",
      "Celeste : 76 marks\n",
      "Justin : 75 marks\n",
      "Holly : 73 marks\n",
      "Ivy : 69 marks\n",
      "Ethan : 66 marks\n",
      "Dion : 64 marks\n",
      "Greg : 55 marks\n",
      "Beatrice : 45 marks\n"
     ]
    }
   ],
   "source": [
    "# list students in order of their exam marks in the following list\n",
    "marks = [87,45,76,64,66,90,55,73,69,75]\n",
    "students_marks = dict(zip(students,marks))\n",
    "sorted_students_marks = sorted(students_marks.items(),\n",
    "                              key=lambda x: x[1],\n",
    "                              reverse=True)\n",
    "for i in sorted_students_marks:\n",
    "    print(i[0], \":\", i[1], \"marks\")\n"
   ]
  },
  {
   "cell_type": "code",
   "execution_count": 95,
   "metadata": {
    "colab": {},
    "colab_type": "code",
    "id": "9d9QrXRo182c",
    "scrolled": true
   },
   "outputs": [
    {
     "name": "stdout",
     "output_type": "stream",
     "text": [
      "{'Beatrice': 45, 'Greg': 55, 'Dion': 64, 'Ethan': 66, 'Ivy': 69, 'Holly': 73, 'Justin': 75, 'Celeste': 76, 'Amanda': 87, 'Fiona': 90}\n"
     ]
    }
   ],
   "source": [
    "simpler_sorted_students_marks = dict((sorted(students_marks.items(), key=lambda x: x[1])))\n",
    "print(simpler_sorted_students_marks)\n",
    "#where [1] refers to 2nd element of each tuple (student name, marks)\n",
    "#[0] would refer to 1st element of each tuple (student name, marks)"
   ]
  },
  {
   "cell_type": "code",
   "execution_count": 59,
   "metadata": {},
   "outputs": [
    {
     "name": "stdout",
     "output_type": "stream",
     "text": [
      "87\n"
     ]
    }
   ],
   "source": [
    "#Find marks given student's name\n",
    "print(simpler_sorted_students_marks['Amanda'])"
   ]
  },
  {
   "cell_type": "code",
   "execution_count": 70,
   "metadata": {},
   "outputs": [
    {
     "name": "stdout",
     "output_type": "stream",
     "text": [
      "Beatrice\n"
     ]
    }
   ],
   "source": [
    "#Find student's name given marks\n",
    "for student, marks in simpler_sorted_students_marks.items():\n",
    "    if marks == 45:\n",
    "        print (student)"
   ]
  },
  {
   "cell_type": "code",
   "execution_count": 76,
   "metadata": {},
   "outputs": [
    {
     "name": "stdout",
     "output_type": "stream",
     "text": [
      "dict_values([45, 55, 64, 66, 69, 73, 75, 76, 87, 90])\n"
     ]
    }
   ],
   "source": [
    "print(simpler_sorted_students_marks.values())"
   ]
  },
  {
   "cell_type": "code",
   "execution_count": null,
   "metadata": {},
   "outputs": [],
   "source": []
  }
 ],
 "metadata": {
  "colab": {
   "collapsed_sections": [],
   "name": "Lab01.ipynb",
   "provenance": []
  },
  "kernelspec": {
   "display_name": "Python 3",
   "language": "python",
   "name": "python3"
  },
  "language_info": {
   "codemirror_mode": {
    "name": "ipython",
    "version": 3
   },
   "file_extension": ".py",
   "mimetype": "text/x-python",
   "name": "python",
   "nbconvert_exporter": "python",
   "pygments_lexer": "ipython3",
   "version": "3.8.5"
  }
 },
 "nbformat": 4,
 "nbformat_minor": 1
}
