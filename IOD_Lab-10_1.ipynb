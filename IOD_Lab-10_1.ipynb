{
 "cells": [
  {
   "cell_type": "markdown",
   "metadata": {
    "colab_type": "text",
    "id": "gn3SG1yo1KdV"
   },
   "source": [
    "<div>\n",
    "<img src=https://www.institutedata.com/wp-content/uploads/2019/10/iod_h_tp_primary_c.svg width=\"300\">\n",
    "</div>"
   ]
  },
  {
   "cell_type": "markdown",
   "metadata": {
    "colab_type": "text",
    "id": "g-SD7a9X1KdY"
   },
   "source": [
    "# Lab 10.1: NN with Keras\n",
    "INSTRUCTIONS:\n",
    "- Read the guides and hints, then create the necessary analysis and code to find an answer and conclusion for the task below.\n",
    "- **NOTE**: This is a Regression problem. Consider the appropriate:\n",
    "    - Activation function\n",
    "    - Loss/Cost Function\n",
    "    - Metrics"
   ]
  },
  {
   "cell_type": "markdown",
   "metadata": {
    "colab_type": "text",
    "id": "ENgfRnvL1Kdc"
   },
   "source": [
    "### Import libraries"
   ]
  },
  {
   "cell_type": "code",
   "execution_count": 65,
   "metadata": {
    "colab": {},
    "colab_type": "code",
    "id": "Z9H465X-1Kde"
   },
   "outputs": [],
   "source": [
    "# insert code here\n",
    "import numpy as np\n",
    "\n",
    "%matplotlib inline\n",
    "import matplotlib.pyplot as plt\n",
    "\n",
    "from keras.models import Sequential\n",
    "from keras.layers import Dense\n",
    "from keras.layers import Conv2D\n",
    "from keras.layers import Flatten\n",
    "from tensorflow.keras.utils import to_categorical\n",
    "from keras.optimizers import Adam\n",
    "from keras.metrics import MeanSquaredError"
   ]
  },
  {
   "cell_type": "code",
   "execution_count": 2,
   "metadata": {},
   "outputs": [],
   "source": [
    "from sklearn import datasets\n",
    "from sklearn.model_selection import train_test_split\n",
    "from sklearn.linear_model import LinearRegression\n",
    "\n",
    "import pandas as pd\n",
    "import seaborn as sns"
   ]
  },
  {
   "cell_type": "markdown",
   "metadata": {
    "colab_type": "text",
    "id": "5FHh910J1Kdm"
   },
   "source": [
    "### Load data\n",
    "Load the Diabetes dataset from **SciKit-Learn**."
   ]
  },
  {
   "cell_type": "code",
   "execution_count": 3,
   "metadata": {
    "colab": {},
    "colab_type": "code",
    "id": "MWu8SlQF1Kdo"
   },
   "outputs": [
    {
     "data": {
      "text/plain": [
       "dict_keys(['data', 'target', 'frame', 'DESCR', 'feature_names', 'data_filename', 'target_filename'])"
      ]
     },
     "execution_count": 3,
     "metadata": {},
     "output_type": "execute_result"
    }
   ],
   "source": [
    "## Load the Diabetes dataset\n",
    "diabetes = datasets.load_diabetes() #imports dictionary\n",
    "diabetes.keys()"
   ]
  },
  {
   "cell_type": "code",
   "execution_count": 4,
   "metadata": {},
   "outputs": [
    {
     "data": {
      "text/plain": [
       "['age', 'sex', 'bmi', 'bp', 's1', 's2', 's3', 's4', 's5', 's6']"
      ]
     },
     "execution_count": 4,
     "metadata": {},
     "output_type": "execute_result"
    }
   ],
   "source": [
    "diabetes['feature_names']"
   ]
  },
  {
   "cell_type": "markdown",
   "metadata": {
    "colab_type": "text",
    "id": "xR_yLpR01Kdr"
   },
   "source": [
    "### Prepare input data"
   ]
  },
  {
   "cell_type": "code",
   "execution_count": 5,
   "metadata": {
    "colab": {},
    "colab_type": "code",
    "id": "Sp2mf2bB1Kds"
   },
   "outputs": [
    {
     "data": {
      "text/html": [
       "<div>\n",
       "<style scoped>\n",
       "    .dataframe tbody tr th:only-of-type {\n",
       "        vertical-align: middle;\n",
       "    }\n",
       "\n",
       "    .dataframe tbody tr th {\n",
       "        vertical-align: top;\n",
       "    }\n",
       "\n",
       "    .dataframe thead th {\n",
       "        text-align: right;\n",
       "    }\n",
       "</style>\n",
       "<table border=\"1\" class=\"dataframe\">\n",
       "  <thead>\n",
       "    <tr style=\"text-align: right;\">\n",
       "      <th></th>\n",
       "      <th>age</th>\n",
       "      <th>sex</th>\n",
       "      <th>bmi</th>\n",
       "      <th>bp</th>\n",
       "      <th>s1</th>\n",
       "      <th>s2</th>\n",
       "      <th>s3</th>\n",
       "      <th>s4</th>\n",
       "      <th>s5</th>\n",
       "      <th>s6</th>\n",
       "    </tr>\n",
       "  </thead>\n",
       "  <tbody>\n",
       "    <tr>\n",
       "      <th>0</th>\n",
       "      <td>0.038076</td>\n",
       "      <td>0.050680</td>\n",
       "      <td>0.061696</td>\n",
       "      <td>0.021872</td>\n",
       "      <td>-0.044223</td>\n",
       "      <td>-0.034821</td>\n",
       "      <td>-0.043401</td>\n",
       "      <td>-0.002592</td>\n",
       "      <td>0.019908</td>\n",
       "      <td>-0.017646</td>\n",
       "    </tr>\n",
       "    <tr>\n",
       "      <th>1</th>\n",
       "      <td>-0.001882</td>\n",
       "      <td>-0.044642</td>\n",
       "      <td>-0.051474</td>\n",
       "      <td>-0.026328</td>\n",
       "      <td>-0.008449</td>\n",
       "      <td>-0.019163</td>\n",
       "      <td>0.074412</td>\n",
       "      <td>-0.039493</td>\n",
       "      <td>-0.068330</td>\n",
       "      <td>-0.092204</td>\n",
       "    </tr>\n",
       "    <tr>\n",
       "      <th>2</th>\n",
       "      <td>0.085299</td>\n",
       "      <td>0.050680</td>\n",
       "      <td>0.044451</td>\n",
       "      <td>-0.005671</td>\n",
       "      <td>-0.045599</td>\n",
       "      <td>-0.034194</td>\n",
       "      <td>-0.032356</td>\n",
       "      <td>-0.002592</td>\n",
       "      <td>0.002864</td>\n",
       "      <td>-0.025930</td>\n",
       "    </tr>\n",
       "    <tr>\n",
       "      <th>3</th>\n",
       "      <td>-0.089063</td>\n",
       "      <td>-0.044642</td>\n",
       "      <td>-0.011595</td>\n",
       "      <td>-0.036656</td>\n",
       "      <td>0.012191</td>\n",
       "      <td>0.024991</td>\n",
       "      <td>-0.036038</td>\n",
       "      <td>0.034309</td>\n",
       "      <td>0.022692</td>\n",
       "      <td>-0.009362</td>\n",
       "    </tr>\n",
       "    <tr>\n",
       "      <th>4</th>\n",
       "      <td>0.005383</td>\n",
       "      <td>-0.044642</td>\n",
       "      <td>-0.036385</td>\n",
       "      <td>0.021872</td>\n",
       "      <td>0.003935</td>\n",
       "      <td>0.015596</td>\n",
       "      <td>0.008142</td>\n",
       "      <td>-0.002592</td>\n",
       "      <td>-0.031991</td>\n",
       "      <td>-0.046641</td>\n",
       "    </tr>\n",
       "  </tbody>\n",
       "</table>\n",
       "</div>"
      ],
      "text/plain": [
       "        age       sex       bmi        bp        s1        s2        s3  \\\n",
       "0  0.038076  0.050680  0.061696  0.021872 -0.044223 -0.034821 -0.043401   \n",
       "1 -0.001882 -0.044642 -0.051474 -0.026328 -0.008449 -0.019163  0.074412   \n",
       "2  0.085299  0.050680  0.044451 -0.005671 -0.045599 -0.034194 -0.032356   \n",
       "3 -0.089063 -0.044642 -0.011595 -0.036656  0.012191  0.024991 -0.036038   \n",
       "4  0.005383 -0.044642 -0.036385  0.021872  0.003935  0.015596  0.008142   \n",
       "\n",
       "         s4        s5        s6  \n",
       "0 -0.002592  0.019908 -0.017646  \n",
       "1 -0.039493 -0.068330 -0.092204  \n",
       "2 -0.002592  0.002864 -0.025930  \n",
       "3  0.034309  0.022692 -0.009362  \n",
       "4 -0.002592 -0.031991 -0.046641  "
      ]
     },
     "execution_count": 5,
     "metadata": {},
     "output_type": "execute_result"
    }
   ],
   "source": [
    "# predictors\n",
    "X = pd.DataFrame(diabetes.data, columns = diabetes['feature_names'])\n",
    "X.head()"
   ]
  },
  {
   "cell_type": "code",
   "execution_count": 6,
   "metadata": {},
   "outputs": [],
   "source": [
    "# target\n",
    "y = diabetes['target']"
   ]
  },
  {
   "cell_type": "markdown",
   "metadata": {
    "colab_type": "text",
    "id": "j1Vsh6cm1Kdv"
   },
   "source": [
    "### Split the data (training/test)"
   ]
  },
  {
   "cell_type": "code",
   "execution_count": 7,
   "metadata": {
    "colab": {},
    "colab_type": "code",
    "id": "O341llJz1Kdw"
   },
   "outputs": [],
   "source": [
    "# insert code here\n",
    "X_train, X_test, y_train, y_test = train_test_split(X, y, test_size=0.3, random_state=1)"
   ]
  },
  {
   "cell_type": "markdown",
   "metadata": {
    "colab_type": "text",
    "id": "o4dJViJD1Kd0"
   },
   "source": [
    "### Create the model's architecture"
   ]
  },
  {
   "cell_type": "code",
   "execution_count": 91,
   "metadata": {
    "colab": {},
    "colab_type": "code",
    "id": "Tkgf_BLl1Kd1"
   },
   "outputs": [],
   "source": [
    "# set up model architecture\n",
    "model = Sequential()"
   ]
  },
  {
   "cell_type": "code",
   "execution_count": 69,
   "metadata": {},
   "outputs": [
    {
     "data": {
      "text/plain": [
       "(309, 10)"
      ]
     },
     "execution_count": 69,
     "metadata": {},
     "output_type": "execute_result"
    }
   ],
   "source": [
    "X_train.shape"
   ]
  },
  {
   "cell_type": "code",
   "execution_count": 92,
   "metadata": {},
   "outputs": [],
   "source": [
    "n_cols = X.shape[1]"
   ]
  },
  {
   "cell_type": "code",
   "execution_count": 93,
   "metadata": {},
   "outputs": [],
   "source": [
    "# add the first hidden layer\n",
    "model.add(Dense(50,\n",
    "               activation = 'linear',\n",
    "               input_shape = (n_cols, )))\n",
    "\n",
    "# add the second hidden layer\n",
    "model.add(Dense(10,\n",
    "               activation = 'linear'))\n",
    "\n",
    "# add the output layer\n",
    "model.add(Dense(1, #1 because we're predicting 1 output value\n",
    "               activation = 'linear')) #can also be relu: https://towardsdatascience.com/deep-learning-which-loss-and-activation-functions-should-i-use-ac02f1c56aa8"
   ]
  },
  {
   "cell_type": "code",
   "execution_count": 94,
   "metadata": {},
   "outputs": [
    {
     "name": "stdout",
     "output_type": "stream",
     "text": [
      "Model: \"sequential_5\"\n",
      "_________________________________________________________________\n",
      "Layer (type)                 Output Shape              Param #   \n",
      "=================================================================\n",
      "dense_25 (Dense)             (None, 50)                550       \n",
      "_________________________________________________________________\n",
      "dense_26 (Dense)             (None, 10)                510       \n",
      "_________________________________________________________________\n",
      "dense_27 (Dense)             (None, 1)                 11        \n",
      "=================================================================\n",
      "Total params: 1,071\n",
      "Trainable params: 1,071\n",
      "Non-trainable params: 0\n",
      "_________________________________________________________________\n",
      "None\n"
     ]
    }
   ],
   "source": [
    "print(model.summary())"
   ]
  },
  {
   "cell_type": "code",
   "execution_count": 95,
   "metadata": {},
   "outputs": [],
   "source": [
    "# compile model\n",
    "model.compile(#optimizer = 'sgd',\n",
    "              loss='mse',\n",
    "              metrics=[MeanSquaredError()],\n",
    "              optimizer=Adam(learning_rate=0.1))"
   ]
  },
  {
   "cell_type": "code",
   "execution_count": 96,
   "metadata": {
    "scrolled": true
   },
   "outputs": [
    {
     "name": "stdout",
     "output_type": "stream",
     "text": [
      "Train on 231 samples, validate on 78 samples\n",
      "Epoch 1/20\n",
      "231/231 [==============================] - 0s 653us/step - loss: 20009.4911 - mean_squared_error: 20009.4922 - val_loss: 9276.5619 - val_mean_squared_error: 9276.5615\n",
      "Epoch 2/20\n",
      "231/231 [==============================] - 0s 52us/step - loss: 7454.3764 - mean_squared_error: 7454.3760 - val_loss: 7873.0553 - val_mean_squared_error: 7873.0552\n",
      "Epoch 3/20\n",
      "231/231 [==============================] - 0s 43us/step - loss: 4935.9302 - mean_squared_error: 4935.9302 - val_loss: 3628.5970 - val_mean_squared_error: 3628.5969\n",
      "Epoch 4/20\n",
      "231/231 [==============================] - 0s 48us/step - loss: 4108.7280 - mean_squared_error: 4108.7280 - val_loss: 4223.9813 - val_mean_squared_error: 4223.9810\n",
      "Epoch 5/20\n",
      "231/231 [==============================] - 0s 52us/step - loss: 3440.5717 - mean_squared_error: 3440.5715 - val_loss: 2647.0870 - val_mean_squared_error: 2647.0869\n",
      "Epoch 6/20\n",
      "231/231 [==============================] - 0s 52us/step - loss: 3179.1070 - mean_squared_error: 3179.1072 - val_loss: 3370.7249 - val_mean_squared_error: 3370.7251\n",
      "Epoch 7/20\n",
      "231/231 [==============================] - 0s 56us/step - loss: 3089.1703 - mean_squared_error: 3089.1702 - val_loss: 2783.5151 - val_mean_squared_error: 2783.5151\n",
      "Epoch 8/20\n",
      "231/231 [==============================] - 0s 52us/step - loss: 3192.8579 - mean_squared_error: 3192.8577 - val_loss: 3739.5244 - val_mean_squared_error: 3739.5244\n",
      "Epoch 9/20\n",
      "231/231 [==============================] - 0s 56us/step - loss: 3129.8260 - mean_squared_error: 3129.8257 - val_loss: 3076.2620 - val_mean_squared_error: 3076.2620\n",
      "Epoch 10/20\n",
      "231/231 [==============================] - 0s 56us/step - loss: 2978.8770 - mean_squared_error: 2978.8770 - val_loss: 3537.5187 - val_mean_squared_error: 3537.5188\n",
      "Epoch 11/20\n",
      "231/231 [==============================] - 0s 56us/step - loss: 3021.3049 - mean_squared_error: 3021.3049 - val_loss: 3075.7464 - val_mean_squared_error: 3075.7463\n",
      "Epoch 12/20\n",
      "231/231 [==============================] - 0s 56us/step - loss: 3089.1309 - mean_squared_error: 3089.1306 - val_loss: 3072.4959 - val_mean_squared_error: 3072.4961\n",
      "Epoch 13/20\n",
      "231/231 [==============================] - 0s 52us/step - loss: 3069.4935 - mean_squared_error: 3069.4934 - val_loss: 3440.1879 - val_mean_squared_error: 3440.1880\n",
      "Epoch 14/20\n",
      "231/231 [==============================] - 0s 52us/step - loss: 3088.2637 - mean_squared_error: 3088.2639 - val_loss: 2980.6433 - val_mean_squared_error: 2980.6433\n",
      "Epoch 15/20\n",
      "231/231 [==============================] - 0s 52us/step - loss: 3002.8003 - mean_squared_error: 3002.8000 - val_loss: 3153.6844 - val_mean_squared_error: 3153.6843\n",
      "Epoch 16/20\n",
      "231/231 [==============================] - 0s 52us/step - loss: 2995.7079 - mean_squared_error: 2995.7078 - val_loss: 3044.8918 - val_mean_squared_error: 3044.8918\n",
      "Epoch 17/20\n",
      "231/231 [==============================] - 0s 52us/step - loss: 2950.8867 - mean_squared_error: 2950.8870 - val_loss: 3038.1981 - val_mean_squared_error: 3038.1980\n",
      "Epoch 18/20\n",
      "231/231 [==============================] - 0s 56us/step - loss: 2946.7367 - mean_squared_error: 2946.7366 - val_loss: 3084.0069 - val_mean_squared_error: 3084.0071\n",
      "Epoch 19/20\n",
      "231/231 [==============================] - 0s 56us/step - loss: 2963.8012 - mean_squared_error: 2963.8010 - val_loss: 3196.5423 - val_mean_squared_error: 3196.5422\n",
      "Epoch 20/20\n",
      "231/231 [==============================] - 0s 52us/step - loss: 3046.7838 - mean_squared_error: 3046.7842 - val_loss: 3711.1442 - val_mean_squared_error: 3711.1443\n"
     ]
    }
   ],
   "source": [
    "# fit model\n",
    "history = model.fit(X_train, y_train,\n",
    "                   validation_split = 0.25, #calculate validation results on 25% of training data\n",
    "                   epochs = 20) "
   ]
  },
  {
   "cell_type": "code",
   "execution_count": 97,
   "metadata": {},
   "outputs": [
    {
     "data": {
      "text/plain": [
       "dict_keys(['val_loss', 'val_mean_squared_error', 'loss', 'mean_squared_error'])"
      ]
     },
     "execution_count": 97,
     "metadata": {},
     "output_type": "execute_result"
    }
   ],
   "source": [
    "history.history.keys()"
   ]
  },
  {
   "cell_type": "code",
   "execution_count": 98,
   "metadata": {},
   "outputs": [
    {
     "data": {
      "text/plain": [
       "20"
      ]
     },
     "execution_count": 98,
     "metadata": {},
     "output_type": "execute_result"
    }
   ],
   "source": [
    "len(history.history['loss'])"
   ]
  },
  {
   "cell_type": "markdown",
   "metadata": {
    "colab_type": "text",
    "id": "CR-kCu3c1Kd-"
   },
   "source": [
    "### Create predictions"
   ]
  },
  {
   "cell_type": "code",
   "execution_count": 99,
   "metadata": {
    "colab": {},
    "colab_type": "code",
    "id": "wkywKqPg1Kd-"
   },
   "outputs": [
    {
     "data": {
      "text/plain": [
       "array([[ 90.456314],\n",
       "       [ 84.62077 ],\n",
       "       [175.75644 ],\n",
       "       [ 49.449726],\n",
       "       [152.26965 ],\n",
       "       [176.61098 ],\n",
       "       [203.8697  ],\n",
       "       [118.3289  ],\n",
       "       [146.85623 ],\n",
       "       [115.726166],\n",
       "       [181.88141 ],\n",
       "       [163.97238 ],\n",
       "       [ 87.7728  ],\n",
       "       [ 65.82141 ],\n",
       "       [214.7307  ],\n",
       "       [191.00494 ],\n",
       "       [162.82523 ],\n",
       "       [ 81.934875],\n",
       "       [102.43086 ],\n",
       "       [144.73326 ],\n",
       "       [173.6492  ],\n",
       "       [ 76.96629 ],\n",
       "       [126.07379 ],\n",
       "       [ 90.55525 ],\n",
       "       [ 74.45032 ],\n",
       "       [186.89304 ],\n",
       "       [ 85.31079 ],\n",
       "       [156.9635  ],\n",
       "       [113.42755 ],\n",
       "       [168.14838 ],\n",
       "       [130.33423 ],\n",
       "       [108.520325],\n",
       "       [159.19566 ],\n",
       "       [ 84.87627 ],\n",
       "       [135.60194 ],\n",
       "       [165.5383  ],\n",
       "       [ 83.78676 ],\n",
       "       [218.15977 ],\n",
       "       [151.6263  ],\n",
       "       [157.45859 ],\n",
       "       [141.59064 ],\n",
       "       [161.17212 ],\n",
       "       [109.566376],\n",
       "       [111.16153 ],\n",
       "       [120.38869 ],\n",
       "       [177.26964 ],\n",
       "       [126.08124 ],\n",
       "       [116.02835 ],\n",
       "       [169.87729 ],\n",
       "       [168.73448 ],\n",
       "       [ 62.433575],\n",
       "       [149.13635 ],\n",
       "       [ 95.494446],\n",
       "       [118.97623 ],\n",
       "       [171.78102 ],\n",
       "       [109.73013 ],\n",
       "       [144.06566 ],\n",
       "       [ 88.41939 ],\n",
       "       [ 50.304768],\n",
       "       [ 74.889496],\n",
       "       [ 80.85072 ],\n",
       "       [178.64742 ],\n",
       "       [152.2743  ],\n",
       "       [ 87.807785],\n",
       "       [247.53368 ],\n",
       "       [ 59.32031 ],\n",
       "       [ 70.43822 ],\n",
       "       [135.63876 ],\n",
       "       [163.7161  ],\n",
       "       [ 42.489002],\n",
       "       [125.14363 ],\n",
       "       [ 84.91814 ],\n",
       "       [ 73.67485 ],\n",
       "       [131.16286 ],\n",
       "       [139.70197 ],\n",
       "       [ 76.62068 ],\n",
       "       [104.8387  ],\n",
       "       [ 75.80885 ],\n",
       "       [202.79826 ],\n",
       "       [174.9016  ],\n",
       "       [ 84.584946],\n",
       "       [ 98.91658 ],\n",
       "       [125.90158 ],\n",
       "       [129.91129 ],\n",
       "       [ 91.60875 ],\n",
       "       [ 97.775635],\n",
       "       [ 77.847946],\n",
       "       [ 45.550045],\n",
       "       [241.2532  ],\n",
       "       [ 81.334946],\n",
       "       [132.04544 ],\n",
       "       [154.41887 ],\n",
       "       [120.68776 ],\n",
       "       [ 47.38033 ],\n",
       "       [ 53.61664 ],\n",
       "       [168.14807 ],\n",
       "       [102.98735 ],\n",
       "       [101.33301 ],\n",
       "       [177.31674 ],\n",
       "       [161.29846 ],\n",
       "       [130.84644 ],\n",
       "       [ 55.113773],\n",
       "       [ 96.41571 ],\n",
       "       [152.7247  ],\n",
       "       [199.8927  ],\n",
       "       [107.54526 ],\n",
       "       [201.51189 ],\n",
       "       [229.7157  ],\n",
       "       [100.20801 ],\n",
       "       [ 36.404953],\n",
       "       [122.840866],\n",
       "       [189.49352 ],\n",
       "       [175.22702 ],\n",
       "       [ 47.287556],\n",
       "       [155.8392  ],\n",
       "       [123.07655 ],\n",
       "       [ 90.54669 ],\n",
       "       [ 59.318336],\n",
       "       [169.66974 ],\n",
       "       [121.76294 ],\n",
       "       [ 49.354233],\n",
       "       [232.77332 ],\n",
       "       [215.0471  ],\n",
       "       [139.07828 ],\n",
       "       [129.38956 ],\n",
       "       [143.19229 ],\n",
       "       [ 94.59903 ],\n",
       "       [155.80519 ],\n",
       "       [167.1222  ],\n",
       "       [111.36359 ],\n",
       "       [103.36801 ],\n",
       "       [160.54303 ],\n",
       "       [110.84976 ]], dtype=float32)"
      ]
     },
     "execution_count": 99,
     "metadata": {},
     "output_type": "execute_result"
    }
   ],
   "source": [
    "predictions = model.predict(X_test)\n",
    "predictions"
   ]
  },
  {
   "cell_type": "markdown",
   "metadata": {
    "colab_type": "text",
    "id": "-unEmrGo1KeA"
   },
   "source": [
    "### Evaluate the model"
   ]
  },
  {
   "cell_type": "code",
   "execution_count": 100,
   "metadata": {
    "colab": {},
    "colab_type": "code",
    "id": "QCIVpVrG1KeB"
   },
   "outputs": [
    {
     "name": "stdout",
     "output_type": "stream",
     "text": [
      "133/133 [==============================] - 0s 37us/step\n",
      "\n",
      "Test loss: 3340.752680, Test accuracy: 3340.752686\n"
     ]
    }
   ],
   "source": [
    "score = model.evaluate(X_test, y_test)\n",
    "print('\\nTest loss: %.6f, Test accuracy: %.6f' % tuple(score))"
   ]
  },
  {
   "cell_type": "markdown",
   "metadata": {
    "colab_type": "text",
    "id": "sSlqjs7e1KeD"
   },
   "source": [
    "### Visualisation of cost and error"
   ]
  },
  {
   "cell_type": "code",
   "execution_count": 101,
   "metadata": {
    "colab": {},
    "colab_type": "code",
    "id": "1F6hYpNh1KeE",
    "scrolled": true
   },
   "outputs": [
    {
     "data": {
      "image/png": "[encoded data removed]",
      "text/plain": [
       "<Figure size 1296x432 with 2 Axes>"
      ]
     },
     "metadata": {
      "needs_background": "light"
     },
     "output_type": "display_data"
    }
   ],
   "source": [
    "# insert code here\n",
    "\n",
    "fig, ax = plt.subplots(1, 2, figsize = (18, 6))\n",
    "fig.subplots_adjust(left = 0.02, right = 0.98, wspace = 0.2)\n",
    "\n",
    "plt.rcParams.update({'font.size': 18})\n",
    "\n",
    "# Plot training & validation accuracy values\n",
    "#ax[0].plot(model.history.history['accuracy'], label = 'Training')\n",
    "#ax[0].plot(model.history.history['val_accuracy'], label = 'Validation')\n",
    "ax[0].plot(history.history['mean_squared_error'], label = 'Training')\n",
    "ax[0].plot(history.history['val_mean_squared_error'], label = 'Validation')\n",
    "\n",
    "ax[0].set_title('Model Error')\n",
    "ax[0].set_ylabel('MSE')\n",
    "ax[0].set_xlabel('Epoch')\n",
    "ax[0].legend()\n",
    "\n",
    "# Plot training & validation loss values\n",
    "# ax[1].plot(model.history.history['loss'], label = 'Training')\n",
    "# ax[1].plot(model.history.history['val_loss'], label = 'Validation')\n",
    "ax[1].plot(history.history['loss'], label = 'Training')\n",
    "ax[1].plot(history.history['val_loss'], label = 'Validation')\n",
    "ax[1].set_title('Model loss')\n",
    "ax[1].set_ylabel('Loss')\n",
    "ax[1].set_xlabel('Epoch')\n",
    "ax[1].legend()\n",
    "\n",
    "plt.show()"
   ]
  },
  {
   "cell_type": "markdown",
   "metadata": {
    "colab_type": "text",
    "id": "RERADKgNFq9T"
   },
   "source": [
    "\n",
    "\n",
    "---\n",
    "\n",
    "\n",
    "\n",
    "---\n",
    "\n",
    "\n",
    "\n",
    "> > > > > > > > > © 2021 Institute of Data\n",
    "\n",
    "\n",
    "---\n",
    "\n",
    "\n",
    "\n",
    "---\n",
    "\n",
    "\n",
    "\n"
   ]
  }
 ],
 "metadata": {
  "colab": {
   "collapsed_sections": [],
   "name": "DSIA Lab-10_1.ipynb",
   "provenance": []
  },
  "kernelspec": {
   "display_name": "Python 3 (ipykernel)",
   "language": "python",
   "name": "python3"
  },
  "language_info": {
   "codemirror_mode": {
    "name": "ipython",
    "version": 3
   },
   "file_extension": ".py",
   "mimetype": "text/x-python",
   "name": "python",
   "nbconvert_exporter": "python",
   "pygments_lexer": "ipython3",
   "version": "3.7.9"
  }
 },
 "nbformat": 4,
 "nbformat_minor": 1
}
