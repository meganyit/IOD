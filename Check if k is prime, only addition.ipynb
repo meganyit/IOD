{
 "cells": [
  {
   "cell_type": "code",
   "execution_count": null,
   "metadata": {},
   "outputs": [],
   "source": [
    "#Cycle through all numbers less than k\n",
    "#For each number less than k (let it be n),\n",
    "#Check whether that number 'n' adds in to k (does n=k?)\n",
    "#Repeat until n**x = k or > k\n",
    "#After running through all natural numbers n < k, if none of them fit the criteria of n**x = k, then k IS a prime number\n",
    "\n",
    "\n",
    "\n",
    "# START WITH 2: \n",
    "# 2 = 13 no!\n",
    "# 4 = 13\n",
    "# 6 = 13\n",
    "# 8 = 13\n",
    "# 10 = 13\n",
    "# 12 = 13\n",
    "# 14 > 13 -> 2 OUT\n",
    "\n",
    "# MOVE ON TO 3:\n",
    "# 3 = 13 no!\n",
    "# 6 = 13 \n",
    "# ...\n",
    "# 15 > 13 -> 3 OUT\n",
    "\n",
    "\n",
    "\n",
    "#if at any point, n**x = k, STOP. k is not a prime number\n",
    "\n",
    "\n",
    "\n",
    "# ... REPEAT UP TO k-1. If even (k-1)**n > k, then k is a prime number.\n"
   ]
  },
  {
   "cell_type": "code",
   "execution_count": 4,
   "metadata": {},
   "outputs": [],
   "source": [
    "def check_if_prime(k):\n",
    "    n = 2\n",
    "    prime = 1\n",
    "        \n",
    "    while (n < k):\n",
    "        temp_n = n #initiate sum\n",
    "            \n",
    "        while (temp_n <= k):\n",
    "            if temp_n==k:        #input is not prime\n",
    "                prime = 0                 \n",
    "            temp_n += n\n",
    "                \n",
    "        n += 1\n",
    "\n",
    "            \n",
    "            \n",
    "    if prime:\n",
    "        print(\"input is prime\")\n",
    "    else:\n",
    "        print(\"input not prime\")\n",
    "    \n",
    "            "
   ]
  },
  {
   "cell_type": "code",
   "execution_count": 9,
   "metadata": {},
   "outputs": [
    {
     "name": "stdout",
     "output_type": "stream",
     "text": [
      "input not prime\n"
     ]
    }
   ],
   "source": [
    "check_if_prime(10171)"
   ]
  },
  {
   "cell_type": "code",
   "execution_count": null,
   "metadata": {},
   "outputs": [],
   "source": []
  }
 ],
 "metadata": {
  "kernelspec": {
   "display_name": "Python 3",
   "language": "python",
   "name": "python3"
  },
  "language_info": {
   "codemirror_mode": {
    "name": "ipython",
    "version": 3
   },
   "file_extension": ".py",
   "mimetype": "text/x-python",
   "name": "python",
   "nbconvert_exporter": "python",
   "pygments_lexer": "ipython3",
   "version": "3.8.5"
  }
 },
 "nbformat": 4,
 "nbformat_minor": 4
}
