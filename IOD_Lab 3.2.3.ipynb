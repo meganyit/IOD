{
 "cells": [
  {
   "cell_type": "markdown",
   "metadata": {
    "colab_type": "text",
    "id": "pnuFCWMAORxw"
   },
   "source": [
    "<div>\n",
    "<img src=https://www.institutedata.com/wp-content/uploads/2019/10/iod_h_tp_primary_c.svg width=\"300\">\n",
    "</div>"
   ]
  },
  {
   "cell_type": "markdown",
   "metadata": {
    "colab_type": "text",
    "id": "iM_6Cey1ORx2"
   },
   "source": [
    "# Lab 3.2.3 \n",
    "## Statistical Inference"
   ]
  },
  {
   "cell_type": "markdown",
   "metadata": {
    "colab_type": "text",
    "id": "JuiuvgD1VXE2"
   },
   "source": [
    "### Data\n",
    "\n",
    "You can find the original data [here](https://archive.ics.uci.edu/ml/machine-learning-databases/housing/housing.data).\n",
    "\n",
    "Data dictionary is available [here](https://www.cs.toronto.edu/~delve/data/boston/bostonDetail.html).\n",
    "\n",
    "This dataset contains information collected by the U.S Census Service concerning housing in the area of Boston Mass. It was obtained from the StatLib archive (http://lib.stat.cmu.edu/datasets/boston), and has been used extensively throughout the literature to benchmark algorithms. However, these comparisons were primarily done outside of Delve and are thus somewhat suspect. The dataset is small in size with only 506 cases.\n",
    "\n",
    "The data was originally published by Harrison, D. and Rubinfeld, D.L. Hedonic prices and the demand for clean air', J. Environ. Economics & Management, vol.5, 81-102, 1978.\n",
    "\n",
    "Dataset Naming\n",
    "\n",
    "The name for this dataset is simply boston. It has two prototasks: nox, in which the nitrous oxide level is to be predicted; and price, in which the median value of a home is to be predicted\n",
    "\n",
    "Miscellaneous Details\n",
    "\n",
    "-Origin\n",
    "The origin of the boston housing data is Natural.\n",
    "\n",
    "-Usage\n",
    "This dataset may be used for Assessment.\n",
    "\n",
    "-Number of Cases\n",
    "The dataset contains a total of 506 cases.\n",
    "\n",
    "-Order\n",
    "The order of the cases is mysterious.\n",
    "\n",
    "-Variables\n",
    "\n",
    "There are 14 attributes in each case of the dataset. They are:\n",
    "\n",
    "    CRIM - per capita crime rate by town\n",
    "    ZN - proportion of residential land zoned for lots over 25,000 sq.ft.\n",
    "    INDUS - proportion of non-retail business acres per town.\n",
    "    CHAS - Charles River dummy variable (1 if tract bounds river; 0 otherwise)\n",
    "    NOX - nitric oxides concentration (parts per 10 million)\n",
    "    RM - average number of rooms per dwelling\n",
    "    AGE - proportion of owner-occupied units built prior to 1940\n",
    "    DIS - weighted distances to five Boston employment centres\n",
    "    RAD - index of accessibility to radial highways\n",
    "    TAX - full-value property-tax rate per 10000\n",
    "    PTRATIO - pupil-teacher ratio by town\n",
    "    B - 1000(Bk - 0.63)^2 where Bk is the proportion of blacks by town\n",
    "    LSTAT - % lower status of the population\n",
    "    MEDV - Median value of owner-occupied homes in 1000"
   ]
  },
  {
   "cell_type": "markdown",
   "metadata": {
    "colab_type": "text",
    "id": "DAMd08TPVXE3"
   },
   "source": [
    "### Libraries"
   ]
  },
  {
   "cell_type": "code",
   "execution_count": 1,
   "metadata": {
    "colab": {},
    "colab_type": "code",
    "id": "_WPWzZ3kVXE4"
   },
   "outputs": [],
   "source": [
    "import pandas as pd\n",
    "import numpy as np\n",
    "import math\n",
    "\n",
    "from scipy import stats\n",
    "from matplotlib import pyplot as plt\n",
    "\n",
    "import seaborn as sns\n",
    "sns.set(rc={'figure.figsize': (15, 10)})\n",
    "\n",
    "import pandas as pd\n",
    "pd.set_option(\"display.max_rows\", 120)\n",
    "pd.set_option(\"display.max_columns\", 120)\n",
    "\n",
    "%matplotlib inline"
   ]
  },
  {
   "cell_type": "code",
   "execution_count": 2,
   "metadata": {
    "colab": {},
    "colab_type": "code",
    "id": "vU5VWEOWVXE8"
   },
   "outputs": [],
   "source": [
    "# Read CSV\n",
    "names = [\"CRIM\", \"ZN\", \"INDUS\", \"CHAS\", \"NOX\", \"RM\", \"AGE\", \"DIS\", \"RAD\", \"TAX\", \"PTRATIO\", \"B\", \"LSTAT\", \"MEDV\"]\n",
    "data = pd.read_csv(\"housing.data\", header=None, names=names, delim_whitespace=True)"
   ]
  },
  {
   "cell_type": "code",
   "execution_count": 5,
   "metadata": {
    "colab": {},
    "colab_type": "code",
    "id": "LpVnkcT-VXE_"
   },
   "outputs": [],
   "source": [
    "# AGE"
   ]
  },
  {
   "cell_type": "markdown",
   "metadata": {
    "colab_type": "text",
    "id": "j-5yQbxIVXFC"
   },
   "source": [
    "#### 1. Find the mean, standard deviation, and the standard error of the mean for variable `AGE`\n",
    "\n",
    "Hint: The standard error of the mean (SEM) can be expressed as:\n",
    "\n",
    "![](https://wikimedia.org/api/rest_v1/media/math/render/svg/f9dac77577c2717cbb973388e4d6563915705742)"
   ]
  },
  {
   "cell_type": "code",
   "execution_count": 8,
   "metadata": {
    "colab": {},
    "colab_type": "code",
    "id": "JUPWry0iVXFD"
   },
   "outputs": [
    {
     "data": {
      "text/plain": [
       "68.57490118577078"
      ]
     },
     "execution_count": 8,
     "metadata": {},
     "output_type": "execute_result"
    }
   ],
   "source": [
    "# ANSWER - mean\n",
    "AGE_mean = data[\"AGE\"].mean()\n",
    "AGE_mean"
   ]
  },
  {
   "cell_type": "code",
   "execution_count": 9,
   "metadata": {},
   "outputs": [
    {
     "data": {
      "text/plain": [
       "28.148861406903638"
      ]
     },
     "execution_count": 9,
     "metadata": {},
     "output_type": "execute_result"
    }
   ],
   "source": [
    "# ANSWER - sd\n",
    "AGE_std = data[\"AGE\"].std()\n",
    "AGE_std"
   ]
  },
  {
   "cell_type": "code",
   "execution_count": 10,
   "metadata": {},
   "outputs": [
    {
     "data": {
      "text/plain": [
       "1.251369525258305"
      ]
     },
     "execution_count": 10,
     "metadata": {},
     "output_type": "execute_result"
    }
   ],
   "source": [
    "# ANSWER - SEM\n",
    "AGE_SEM = AGE_std / (np.sqrt(len(data[\"AGE\"])))\n",
    "AGE_SEM"
   ]
  },
  {
   "cell_type": "markdown",
   "metadata": {
    "colab_type": "text",
    "id": "YmT0j9cgVXFF"
   },
   "source": [
    "#### 2. Cenral Limit Theoram\n",
    "\n",
    "Recall that the central limit theorem dictates that the distribution of sample means (calculated across different random samples from our overall population) will be normally distributed.\n",
    "\n",
    "We will depend on the Central Limit Theorem again and again in order to do normal probability calculations when we use sample means to draw conclusions about a population mean. We now know that we can do this even if the population distribution is not normal.\n",
    "\n",
    "##### 2.A Find the sample mean, sample standard deviation, and the sample standard error of the mean for variable `AGE` Using CLT"
   ]
  },
  {
   "cell_type": "code",
   "execution_count": 12,
   "metadata": {
    "colab": {},
    "colab_type": "code",
    "id": "H_iwL5r9VXFG"
   },
   "outputs": [],
   "source": [
    "def calculate_sample_mean(df, column_name, N=10, sample_size=5):\n",
    "    '''\n",
    "    df: DataFrame\n",
    "    column_name: String, column_name\n",
    "    N: Number of samples\n",
    "    sample_size: Size of sample (n) for each sample\n",
    "    '''\n",
    "    sample_mean_list = []\n",
    "\n",
    "    for i in range(N):\n",
    "        df_sample = df.sample(n=sample_size)\n",
    "        sample_mean = df_sample[column_name].mean()\n",
    "        sample_mean_list.append(sample_mean)\n",
    "    \n",
    "    return sample_mean_list"
   ]
  },
  {
   "cell_type": "code",
   "execution_count": 13,
   "metadata": {
    "colab": {},
    "colab_type": "code",
    "id": "mR4QWTZFVXFJ"
   },
   "outputs": [],
   "source": [
    "def visual_sample_mean(population_mean, sample_mean_list):\n",
    "    '''\n",
    "    population_mean: mean of entire population\n",
    "    sample_mean_list: list of sample mean\n",
    "    '''\n",
    "    \n",
    "    sample_mean = np.mean(sample_mean_list)\n",
    "    \n",
    "    ax = sns.distplot(sample_mean_list);\n",
    "    \n",
    "    # plot a vertical line for population mean and sample mean\n",
    "    ax.axvline(population_mean, color='black', linestyle='solid', lw=1)\n",
    "    ax.axvline(sample_mean, color='red', linestyle='dashed', lw=1)\n",
    "    \n",
    "    plt.xlabel('Mean of Samples')\n",
    "    plt.ylabel('Frequency')\n",
    "\n",
    "    plt.show()"
   ]
  },
  {
   "cell_type": "code",
   "execution_count": 15,
   "metadata": {
    "colab": {},
    "colab_type": "code",
    "id": "VGksRnV6VXFN"
   },
   "outputs": [
    {
     "name": "stderr",
     "output_type": "stream",
     "text": [
      "C:\\Users\\Megan Yit\\anaconda3\\lib\\site-packages\\seaborn\\distributions.py:2557: FutureWarning: `distplot` is a deprecated function and will be removed in a future version. Please adapt your code to use either `displot` (a figure-level function with similar flexibility) or `histplot` (an axes-level function for histograms).\n",
      "  warnings.warn(msg, FutureWarning)\n"
     ]
    },
    {
     "data": {
      "image/png": "[encoded data removed]",
      "text/plain": [
       "<Figure size 432x288 with 1 Axes>"
      ]
     },
     "metadata": {
      "needs_background": "light"
     },
     "output_type": "display_data"
    }
   ],
   "source": [
    "# ANSWER\n",
    "AGE_sample_mean = calculate_sample_mean(data, \"AGE\")\n",
    "visual_sample_mean(AGE_mean, AGE_sample_mean)"
   ]
  },
  {
   "cell_type": "markdown",
   "metadata": {
    "colab_type": "text",
    "id": "nxEKVhZVVXFQ"
   },
   "source": [
    "##### [BONUS] 2.B Visualize Distribution of Sample Mean "
   ]
  },
  {
   "cell_type": "code",
   "execution_count": 40,
   "metadata": {
    "colab": {},
    "colab_type": "code",
    "id": "iyvn_9siVXFS"
   },
   "outputs": [
    {
     "data": {
      "image/png": "[encoded data removed]",
      "text/plain": [
       "<Figure size 1440x1440 with 1 Axes>"
      ]
     },
     "metadata": {
      "needs_background": "light"
     },
     "output_type": "display_data"
    },
    {
     "data": {
      "image/png": "[encoded data removed]",
      "text/plain": [
       "<Figure size 720x720 with 1 Axes>"
      ]
     },
     "metadata": {
      "needs_background": "light"
     },
     "output_type": "display_data"
    }
   ],
   "source": [
    "# ANSWER\n",
    "plt.figure(figsize=(20,20))\n",
    "plt.hist(AGE_sample_mean, bins=10)\n",
    "plt.xticks(np.arange(44, 80, step=2))\n",
    "plt.xlabel('sample mean age')\n",
    "plt.ylabel('freq')\n",
    "plt.show()\n",
    "\n",
    "plt.figure(figsize=(10,10))\n",
    "plt.scatter(np.arange(len(AGE_sample_mean)),AGE_sample_mean)\n",
    "plt.yticks(np.arange(44, 80, step=2))\n",
    "plt.xlabel('sample')\n",
    "plt.ylabel('sample mean age')\n",
    "plt.show()"
   ]
  },
  {
   "cell_type": "markdown",
   "metadata": {
    "colab_type": "text",
    "id": "wkvVYKkEVXFV"
   },
   "source": [
    "##### [BONUS] 2.C Visualize Distribution of Sample Mean and Population together"
   ]
  },
  {
   "cell_type": "code",
   "execution_count": 0,
   "metadata": {
    "colab": {},
    "colab_type": "code",
    "id": "iiq6sK5UVXFW"
   },
   "outputs": [],
   "source": [
    "# ANSWER\n",
    "sns.distplot(AGE_sample_mean)\n",
    "sns.distplot()"
   ]
  },
  {
   "cell_type": "markdown",
   "metadata": {
    "colab_type": "text",
    "id": "SV9cx_ojOR0V"
   },
   "source": [
    "#### Diabetics Data\n",
    "\n",
    "A medical doctor wants to reduce blood sugar level of all his patients by altering their diet. He finds that the mean sugar level of all patients is 180 with a standard deviation of 18. Nine of his patients start dieting and the mean of that sample is 175. The doctor specifies a 99% confidence interval.\n",
    "\n",
    "##### 4. What is the standard error of the mean? "
   ]
  },
  {
   "cell_type": "code",
   "execution_count": 2,
   "metadata": {
    "colab": {},
    "colab_type": "code",
    "id": "qgqQqeh8OR0W"
   },
   "outputs": [
    {
     "data": {
      "text/plain": [
       "6.0"
      ]
     },
     "execution_count": 2,
     "metadata": {},
     "output_type": "execute_result"
    }
   ],
   "source": [
    "# ANSWER\n",
    "diabetics_popstd = 18 #population standard deviation\n",
    "diabetics_popmean = 180 #population mean\n",
    "diabetics_samplemean = 175 #sample mean\n",
    "\n",
    "diabetics_SEM = diabetics_popstd / (np.sqrt(9)) #formula uses population standard deviation\n",
    "diabetics_SEM"
   ]
  },
  {
   "cell_type": "markdown",
   "metadata": {
    "colab_type": "text",
    "id": "QT94PCGcOR0Y"
   },
   "source": [
    "##### 5. If all patients start dieting, what is the probability that their collective mean will be 175 or less?\n",
    "(Hint: When you have multiple samples and want to describe the standard deviation of those sample means (the standard error), you would use this z score formula:\n",
    "```\n",
    "z = (x – μ) / (σ / √n)\n",
    "```\n",
    "This z-score will tell you how many standard errors there are between the sample mean and the population mean.\n",
    "\n",
    "Treat 180 as the population mean, and use the `norm.cdf` function from `scipy.stats`.)"
   ]
  },
  {
   "cell_type": "code",
   "execution_count": 5,
   "metadata": {
    "colab": {},
    "colab_type": "code",
    "id": "JdHTcjjQOR0Y"
   },
   "outputs": [
    {
     "name": "stdout",
     "output_type": "stream",
     "text": [
      "-0.8333333333333334\n"
     ]
    },
    {
     "data": {
      "text/plain": [
       "0.20232838096364308"
      ]
     },
     "execution_count": 5,
     "metadata": {},
     "output_type": "execute_result"
    }
   ],
   "source": [
    "#ANSWER\n",
    "#z = (sample mean - population mean) / SEM\n",
    "z_score = (diabetics_samplemean - diabetics_popmean) / diabetics_SEM\n",
    "print(z_score)\n",
    "#z-score is <1 s.d from median, so difference in means between 2 populations not significant.\n",
    "\n",
    "from scipy.stats import norm\n",
    "\n",
    "p_value = norm.cdf(z_score)\n",
    "#returns percentage of the normal distribution <= random variable specified"
   ]
  },
  {
   "cell_type": "markdown",
   "metadata": {
    "colab_type": "text",
    "id": "uUxHoUNNOR0a"
   },
   "source": [
    "##### 6. Can the doctor conclude that dieting will reduce blood sugar by 5 points on average?"
   ]
  },
  {
   "cell_type": "code",
   "execution_count": 0,
   "metadata": {
    "colab": {},
    "colab_type": "code",
    "id": "h_vZ2ZNMOR0b"
   },
   "outputs": [],
   "source": [
    "#ANSWER\n",
    "#p-value = 20% cannot reject H0 (H0: 2 means are same, any differences due to chance)\n",
    "#20% of population falls below z-score of -0.8333 \n",
    "\n",
    "alpha = 0.05\n",
    "def test_p_value(p_value, alpha):\n",
    "    if p_value <= alpha:\n",
    "        return \"We reject our null hypothesis.\"\n",
    "    else:\n",
    "        return \"We fail to reject our null hypothesis.\"\n",
    "test_p_value(p_value, alpha)"
   ]
  },
  {
   "cell_type": "markdown",
   "metadata": {
    "colab_type": "text",
    "id": "anvtQw7BOR0d"
   },
   "source": [
    "##### 7. What should the doctor try next? Make some suitable assumptions and try to prove your idea with a calculation."
   ]
  },
  {
   "cell_type": "code",
   "execution_count": 0,
   "metadata": {
    "colab": {},
    "colab_type": "code",
    "id": "T_JSvX3wOR0d"
   },
   "outputs": [],
   "source": [
    "# ANSWER\n",
    "# increase the number of patients in the diet study!"
   ]
  },
  {
   "cell_type": "markdown",
   "metadata": {
    "colab_type": "text",
    "id": "SiBFlmUUVXFm"
   },
   "source": [
    "References\n",
    "---\n",
    "\n",
    "[Z-Score: Definition, Formula and Calculation](https://www.statisticshowto.datasciencecentral.com/probability-and-statistics/z-score/)\n",
    "\n",
    "[Confidence Intervals](https://www.mathsisfun.com/data/confidence-interval.html)"
   ]
  },
  {
   "cell_type": "markdown",
   "metadata": {
    "colab_type": "text",
    "id": "Hj8GdoOXC-Lu"
   },
   "source": [
    "\n",
    "\n",
    "> \n",
    ">\n",
    ">\n",
    "\n",
    "\n"
   ]
  },
  {
   "cell_type": "markdown",
   "metadata": {
    "colab_type": "text",
    "id": "MlasiTKgDGdA"
   },
   "source": [
    "\n",
    "\n",
    "---\n",
    "\n",
    "\n",
    "\n",
    "---\n",
    "\n",
    "\n",
    "\n",
    "> > > > > > > > > © 2021 Institute of Data\n",
    "\n",
    "\n",
    "---\n",
    "\n",
    "\n",
    "\n",
    "---\n",
    "\n",
    "\n",
    "\n"
   ]
  }
 ],
 "metadata": {
  "colab": {
   "collapsed_sections": [],
   "name": "DSIA Lab 3.2.3.ipynb",
   "provenance": []
  },
  "kernelspec": {
   "display_name": "Python 3",
   "language": "python",
   "name": "python3"
  },
  "language_info": {
   "codemirror_mode": {
    "name": "ipython",
    "version": 3
   },
   "file_extension": ".py",
   "mimetype": "text/x-python",
   "name": "python",
   "nbconvert_exporter": "python",
   "pygments_lexer": "ipython3",
   "version": "3.8.5"
  }
 },
 "nbformat": 4,
 "nbformat_minor": 1
}
