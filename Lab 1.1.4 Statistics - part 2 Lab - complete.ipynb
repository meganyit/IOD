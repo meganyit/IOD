{
 "cells": [
  {
   "cell_type": "markdown",
   "metadata": {
    "colab_type": "text",
    "id": "4M2unyfTx9B1"
   },
   "source": [
    "<div>\n",
    "<img src=https://www.institutedata.com/wp-content/uploads/2019/10/iod_h_tp_primary_c.svg width=\"300\">\n",
    "</div>"
   ]
  },
  {
   "cell_type": "markdown",
   "metadata": {
    "colab_type": "text",
    "id": "RqiJTWNJmxTh"
   },
   "source": [
    "# Statistics - part 2"
   ]
  },
  {
   "cell_type": "code",
   "execution_count": 3,
   "metadata": {
    "colab": {},
    "colab_type": "code",
    "id": "LMexHJ6rmxTh"
   },
   "outputs": [],
   "source": [
    "import numpy as np\n",
    "import matplotlib.pyplot as plt\n",
    "from scipy import stats\n",
    "\n",
    "# get matplot to show charts inline\n",
    "%matplotlib inline"
   ]
  },
  {
   "cell_type": "markdown",
   "metadata": {
    "colab_type": "text",
    "id": "77Yt7aCRpUKY"
   },
   "source": [
    "# 1. plot a histogram of a set of observations\n",
    "\n",
    "experiment with various number of bins"
   ]
  },
  {
   "cell_type": "code",
   "execution_count": 76,
   "metadata": {
    "colab": {},
    "colab_type": "code",
    "id": "7PY2pBe8mxTk"
   },
   "outputs": [
    {
     "data": {
      "image/png": "[encoded data removed]",
      "text/plain": [
       "<Figure size 1000x500 with 1 Axes>"
      ]
     },
     "metadata": {
      "needs_background": "light"
     },
     "output_type": "display_data"
    }
   ],
   "source": [
    "# plot a histogram of a set of observations\n",
    "# experiment with various number of bins\n",
    "x = [21,22,23,4,5,6,77,8,9,10,31,32,33,34,35,36,37,18,49,50,100]\n",
    "num_bins = 30\n",
    "# y represents no. of values in each bin\n",
    "\n",
    "plt.figure(figsize=(20,10),dpi=50)\n",
    "plt.hist(x, bins=num_bins, align='mid', range=(0,100), color=('#FF5733'))\n",
    "# note: range attribute only makes sure your a-xis min and max is 0 and 100, xticks is 5 equally divided values between this range\n",
    "plt.xticks(np.arange(0,120,4))\n",
    "plt.show()"
   ]
  },
  {
   "cell_type": "markdown",
   "metadata": {
    "colab_type": "text",
    "id": "cRSBy51CpgbC"
   },
   "source": [
    "# 2. Calculate statistical information of a set of observations using numpy and stats\n",
    "```\n",
    "# Expected Output:\n",
    "mean of observations = 28.884615384615383\n",
    "median of observations = 27.0\n",
    "mode of observations = ModeResult(mode=array([10]), count=array([4]))\n",
    "percentile of observations = [10.   27.   35.75]\n",
    "statistical summary of observations = DescribeResult(nobs=26, minmax=(4, 100), mean=28.884615384615383, variance=523.3061538461537, skewness=1.4001632366778733, kurtosis=2.0634808152807826)\n",
    "```"
   ]
  },
  {
   "cell_type": "code",
   "execution_count": 61,
   "metadata": {
    "colab": {},
    "colab_type": "code",
    "id": "odB27dRAmxTn"
   },
   "outputs": [
    {
     "name": "stdout",
     "output_type": "stream",
     "text": [
      "mean of observations =  28.884615384615383\n",
      "median of observations =  27.0\n",
      "mode of observations =  ModeResult(mode=array([10]), count=array([4]))\n",
      "percentile of observations = [10.   27.   35.75]\n",
      "statistical summary of observations =  DescribeResult(nobs=26, minmax=(4, 100), mean=28.884615384615383, variance=523.3061538461537, skewness=1.4001632366778733, kurtosis=2.0634808152807826)\n"
     ]
    }
   ],
   "source": [
    "# calculate statistical information of a set of observations using numpy and stats\n",
    "observations = [21,22,23,4,5,6,77,8,9,10,31,32,33,34,35,36,37,18,49,50,100,10,32,49,10,10]\n",
    "\n",
    "print(\"mean of observations = \", np.mean(observations))\n",
    "print(\"median of observations = \", np.median(observations))\n",
    "\n",
    "print(\"mode of observations = \",stats.mode(observations))\n",
    "\n",
    "percentile25 = np.percentile(observations, 25)\n",
    "percentile50 = np.percentile(observations, 50)\n",
    "percentile75 = np.percentile(observations, 75.0)\n",
    "print(f\"percentile of observations = [{int(percentile25)}.   {int(percentile50)}.   {percentile75}]\")\n",
    "\n",
    "from scipy import stats\n",
    "print(\"statistical summary of observations = \", stats.describe(observations))"
   ]
  },
  {
   "cell_type": "code",
   "execution_count": 77,
   "metadata": {},
   "outputs": [
    {
     "name": "stdout",
     "output_type": "stream",
     "text": [
      "percentile of observations =  [10.   27.   35.75]\n"
     ]
    }
   ],
   "source": [
    "percentile = np.percentile(observations, [25,50,75])\n",
    "print(\"percentile of observations = \", percentile)"
   ]
  },
  {
   "cell_type": "markdown",
   "metadata": {
    "colab_type": "text",
    "id": "AGpwG3Mup0iD"
   },
   "source": [
    "# 3. Plot box chart of obstravations"
   ]
  },
  {
   "cell_type": "code",
   "execution_count": 83,
   "metadata": {
    "colab": {},
    "colab_type": "code",
    "id": "JMIEInnMmxTq",
    "scrolled": true
   },
   "outputs": [
    {
     "name": "stdout",
     "output_type": "stream",
     "text": [
      "27.0\n"
     ]
    },
    {
     "data": {
      "image/png": "[encoded data removed]",
      "text/plain": [
       "<Figure size 432x288 with 1 Axes>"
      ]
     },
     "metadata": {
      "needs_background": "light"
     },
     "output_type": "display_data"
    }
   ],
   "source": [
    "# plot box chart of obstravations\n",
    "observations = [21,22,23,4,5,6,77,8,9,10,31,32,33,34,35,36,37,18,49,50,100,10,32,49,10,10]\n",
    "\n",
    "# orange line of boxplot ie 50th percentile\n",
    "print(np.median(observations))\n",
    "\n",
    "plt.boxplot(observations)\n",
    "plt.grid (color='g', linestyle='-', linewidth = 0.5)\n"
   ]
  },
  {
   "cell_type": "markdown",
   "metadata": {
    "colab_type": "text",
    "id": "LcviDI1CqBtM"
   },
   "source": [
    "# 4. Create a Binomial Distribution\n",
    "\n",
    "Lookup stats.binom.pmf\n",
    "\n",
    "What does it do?"
   ]
  },
  {
   "cell_type": "code",
   "execution_count": 0,
   "metadata": {
    "colab": {
     "base_uri": "https://localhost:8080/",
     "height": 367
    },
    "colab_type": "code",
    "executionInfo": {
     "elapsed": 789,
     "status": "ok",
     "timestamp": 1552700227788,
     "user": {
      "displayName": "Ibrahim Faisal",
      "photoUrl": "",
      "userId": "02685917636347920688"
     },
     "user_tz": -660
    },
    "id": "9aQ57ncDJReH",
    "outputId": "986b17b8-e2ff-4d91-f456-0b40c39dea4e"
   },
   "outputs": [
    {
     "name": "stdout",
     "output_type": "stream",
     "text": [
      "Help on method pmf in module scipy.stats._distn_infrastructure:\n",
      "\n",
      "pmf(k, *args, **kwds) method of scipy.stats._discrete_distns.binom_gen instance\n",
      "    Probability mass function at k of the given RV.\n",
      "    \n",
      "    Parameters\n",
      "    ----------\n",
      "    k : array_like\n",
      "        Quantiles.\n",
      "    arg1, arg2, arg3,... : array_like\n",
      "        The shape parameter(s) for the distribution (see docstring of the\n",
      "        instance object for more information)\n",
      "    loc : array_like, optional\n",
      "        Location parameter (default=0).\n",
      "    \n",
      "    Returns\n",
      "    -------\n",
      "    pmf : array_like\n",
      "        Probability mass function evaluated at k\n",
      "\n"
     ]
    }
   ],
   "source": [
    "help(stats.binom.pmf)"
   ]
  },
  {
   "cell_type": "code",
   "execution_count": 105,
   "metadata": {
    "colab": {
     "base_uri": "https://localhost:8080/",
     "height": 352
    },
    "colab_type": "code",
    "executionInfo": {
     "elapsed": 1446,
     "status": "ok",
     "timestamp": 1552703611710,
     "user": {
      "displayName": "Ibrahim Faisal",
      "photoUrl": "",
      "userId": "02685917636347920688"
     },
     "user_tz": -660
    },
    "id": "_vJoZMf2mxTs",
    "outputId": "0e05757d-5262-4151-8a3a-8ab401031fdf"
   },
   "outputs": [
    {
     "name": "stdout",
     "output_type": "stream",
     "text": [
      "[ 0  1  2  3  4  5  6  7  8  9 10 11 12 13 14 15 16 17 18 19 20 21 22 23\n",
      " 24 25 26 27 28 29 30 31 32 33 34 35 36 37 38 39 40 41 42 43 44 45 46 47\n",
      " 48 49 50 51 52 53 54 55 56 57 58 59 60 61 62 63 64 65 66 67 68 69 70 71\n",
      " 72 73 74 75 76 77 78 79 80 81 82 83 84 85 86 87 88 89 90 91 92 93 94 95\n",
      " 96 97 98 99]\n",
      "[7.88860905e-31 7.88860905e-29 3.90486148e-27 1.27558808e-25\n",
      " 3.09330110e-24 5.93913812e-23 9.40363535e-22 1.26277389e-20\n",
      " 1.46797465e-19 1.50059631e-18 1.36554264e-17 1.11726216e-16\n",
      " 8.28636101e-16 5.60922899e-15 3.48573516e-14 1.99848816e-13\n",
      " 1.06169683e-12 5.24603142e-12 2.41900338e-11 1.04399093e-10\n",
      " 4.22816327e-10 1.61072886e-09 5.78398092e-09 1.96152396e-08\n",
      " 6.29322272e-08 1.91313971e-07 5.51867223e-07 1.51252498e-06\n",
      " 3.94336870e-06 9.79043264e-06 2.31706906e-05 5.23209142e-05\n",
      " 1.12816971e-04 2.32471335e-04 4.58105277e-04 8.63855666e-04\n",
      " 1.55973940e-03 2.69792760e-03 4.47287998e-03 7.11073227e-03\n",
      " 1.08438667e-02 1.58690732e-02 2.22922695e-02 3.00686426e-02\n",
      " 3.89525598e-02 4.84742966e-02 5.79583981e-02 6.65905000e-02\n",
      " 7.35270104e-02 7.80286641e-02 7.95892374e-02 7.80286641e-02\n",
      " 7.35270104e-02 6.65905000e-02 5.79583981e-02 4.84742966e-02\n",
      " 3.89525598e-02 3.00686426e-02 2.22922695e-02 1.58690732e-02\n",
      " 1.08438667e-02 7.11073227e-03 4.47287998e-03 2.69792760e-03\n",
      " 1.55973940e-03 8.63855666e-04 4.58105277e-04 2.32471335e-04\n",
      " 1.12816971e-04 5.23209142e-05 2.31706906e-05 9.79043264e-06\n",
      " 3.94336870e-06 1.51252498e-06 5.51867223e-07 1.91313971e-07\n",
      " 6.29322272e-08 1.96152396e-08 5.78398092e-09 1.61072886e-09\n",
      " 4.22816327e-10 1.04399093e-10 2.41900338e-11 5.24603142e-12\n",
      " 1.06169683e-12 1.99848816e-13 3.48573516e-14 5.60922899e-15\n",
      " 8.28636101e-16 1.11726216e-16 1.36554264e-17 1.50059631e-18\n",
      " 1.46797465e-19 1.26277389e-20 9.40363535e-22 5.93913812e-23\n",
      " 3.09330110e-24 1.27558808e-25 3.90486148e-27 7.88860905e-29]\n"
     ]
    },
    {
     "data": {
      "image/png": "[encoded data removed]",
      "text/plain": [
       "<Figure size 432x288 with 1 Axes>"
      ]
     },
     "metadata": {},
     "output_type": "display_data"
    }
   ],
   "source": [
    "# creating a Binomial Distribution\n",
    "# n = no. of trials\n",
    "# k = x-value on graph (no. of successes), y-value on graph represents prob of getting x no. of successes\n",
    "n = 100\n",
    "p = 0.5\n",
    "k = np.arange(0,100)\n",
    "\n",
    "print(k)\n",
    "\n",
    "binomial = stats.binom.pmf(k, n, p)\n",
    "\n",
    "print(binomial)\n",
    "\n",
    "plt.plot(binomial);"
   ]
  },
  {
   "cell_type": "markdown",
   "metadata": {
    "colab_type": "text",
    "id": "HlhkB_IcqU4U"
   },
   "source": [
    "# 5. Create a scatter plot"
   ]
  },
  {
   "cell_type": "code",
   "execution_count": 87,
   "metadata": {
    "colab": {},
    "colab_type": "code",
    "id": "-qx81cWXmxTu"
   },
   "outputs": [
    {
     "data": {
      "image/png": "[encoded data removed]",
      "text/plain": [
       "<Figure size 432x288 with 1 Axes>"
      ]
     },
     "metadata": {
      "needs_background": "light"
     },
     "output_type": "display_data"
    }
   ],
   "source": [
    "import numpy as np\n",
    "import matplotlib.pyplot as plt\n",
    "\n",
    "# Fixing random state for reproducibility\n",
    "np.random.seed(19680801)\n",
    "\n",
    "\n",
    "N = 50\n",
    "x = np.random.rand(N)\n",
    "y = np.random.rand(N)\n",
    "colors = np.random.rand(N)\n",
    "area = (30 * np.random.rand(N))**2  # 0 to 15 point radii\n",
    "\n",
    "plt.scatter(x,y, c=colors, s=area, alpha=0.7)\n",
    "plt.xlabel('x')\n",
    "plt.ylabel('y')\n",
    "plt.show()"
   ]
  },
  {
   "cell_type": "markdown",
   "metadata": {
    "colab_type": "text",
    "id": "_KQAJyqIqheV"
   },
   "source": [
    "# 6. Calculate and Visualize Correlations\n",
    "\n",
    "NOTE: Lookup np.corrcoef. What does it do?"
   ]
  },
  {
   "cell_type": "code",
   "execution_count": 65,
   "metadata": {},
   "outputs": [
    {
     "name": "stdout",
     "output_type": "stream",
     "text": [
      "Help on function corrcoef in module numpy:\n",
      "\n",
      "corrcoef(x, y=None, rowvar=True, bias=<no value>, ddof=<no value>)\n",
      "    Return Pearson product-moment correlation coefficients.\n",
      "    \n",
      "    Please refer to the documentation for `cov` for more detail.  The\n",
      "    relationship between the correlation coefficient matrix, `R`, and the\n",
      "    covariance matrix, `C`, is\n",
      "    \n",
      "    .. math:: R_{ij} = \\frac{ C_{ij} } { \\sqrt{ C_{ii} * C_{jj} } }\n",
      "    \n",
      "    The values of `R` are between -1 and 1, inclusive.\n",
      "    \n",
      "    Parameters\n",
      "    ----------\n",
      "    x : array_like\n",
      "        A 1-D or 2-D array containing multiple variables and observations.\n",
      "        Each row of `x` represents a variable, and each column a single\n",
      "        observation of all those variables. Also see `rowvar` below.\n",
      "    y : array_like, optional\n",
      "        An additional set of variables and observations. `y` has the same\n",
      "        shape as `x`.\n",
      "    rowvar : bool, optional\n",
      "        If `rowvar` is True (default), then each row represents a\n",
      "        variable, with observations in the columns. Otherwise, the relationship\n",
      "        is transposed: each column represents a variable, while the rows\n",
      "        contain observations.\n",
      "    bias : _NoValue, optional\n",
      "        Has no effect, do not use.\n",
      "    \n",
      "        .. deprecated:: 1.10.0\n",
      "    ddof : _NoValue, optional\n",
      "        Has no effect, do not use.\n",
      "    \n",
      "        .. deprecated:: 1.10.0\n",
      "    \n",
      "    Returns\n",
      "    -------\n",
      "    R : ndarray\n",
      "        The correlation coefficient matrix of the variables.\n",
      "    \n",
      "    See Also\n",
      "    --------\n",
      "    cov : Covariance matrix\n",
      "    \n",
      "    Notes\n",
      "    -----\n",
      "    Due to floating point rounding the resulting array may not be Hermitian,\n",
      "    the diagonal elements may not be 1, and the elements may not satisfy the\n",
      "    inequality abs(a) <= 1. The real and imaginary parts are clipped to the\n",
      "    interval [-1,  1] in an attempt to improve on that situation but is not\n",
      "    much help in the complex case.\n",
      "    \n",
      "    This function accepts but discards arguments `bias` and `ddof`.  This is\n",
      "    for backwards compatibility with previous versions of this function.  These\n",
      "    arguments had no effect on the return values of the function and can be\n",
      "    safely ignored in this and previous versions of numpy.\n",
      "\n"
     ]
    }
   ],
   "source": [
    "help(np.corrcoef)"
   ]
  },
  {
   "cell_type": "code",
   "execution_count": 4,
   "metadata": {
    "colab": {},
    "colab_type": "code",
    "id": "5K4lfLpTmxTw"
   },
   "outputs": [
    {
     "data": {
      "image/png": "[encoded data removed]",
      "text/plain": [
       "<Figure size 432x288 with 1 Axes>"
      ]
     },
     "metadata": {},
     "output_type": "display_data"
    }
   ],
   "source": [
    "# Calculate and visualise correltions\n",
    "import matplotlib\n",
    "import numpy as np\n",
    "np.random.seed(1)\n",
    "\n",
    "# 1000 random integers between 0 and 50\n",
    "x = np.random.randint(0, 50, 1000)\n",
    "\n",
    "# Positive Correlation with some noise\n",
    "# np.random.normal produces 1000 normally dist numbers w mean 0 and sd 10\n",
    "y = x + np.random.normal(0, 10, 1000)\n",
    "\n",
    "matplotlib.style.use('dark_background')\n",
    "plt.scatter(x, y)\n",
    "\n",
    "\n",
    "slope, intercept, r, p, stderr = stats.linregress(x,y)\n",
    "# where r is corr\n",
    "# to get slope and intercept which is what we're interested in for next step\n",
    "\n",
    "# write least squares regression line formula now that you have slope and intercept values\n",
    "func=(lambda x:slope*x + intercept)\n",
    "\n",
    "# set x values to range from 0 to 50\n",
    "# set y values to be calculated from line formula, given x values\n",
    "y = np.array([func(0), func(50)])\n",
    "x = np.array([0,50])\n",
    "plt.plot(x,y,color='r')\n",
    "plt.show()\n",
    "\n",
    "# \"e\" in results is \"10 to the power of -\""
   ]
  },
  {
   "cell_type": "code",
   "execution_count": 6,
   "metadata": {
    "colab": {
     "base_uri": "https://localhost:8080/",
     "height": 34
    },
    "colab_type": "code",
    "executionInfo": {
     "elapsed": 744,
     "status": "ok",
     "timestamp": 1552692286593,
     "user": {
      "displayName": "Ibrahim Faisal",
      "photoUrl": "",
      "userId": "02685917636347920688"
     },
     "user_tz": -660
    },
    "id": "5EPfgBdDmxTz",
    "outputId": "11f783b4-0a0f-4904-9bc2-b1a6d6e5e56e"
   },
   "outputs": [
    {
     "name": "stdout",
     "output_type": "stream",
     "text": [
      "m =  0.11163049134349942 and c =  29.583288500039686\n",
      "\n",
      "0.09850893493894966\n"
     ]
    },
    {
     "data": {
      "text/plain": [
       "LinregressResult(slope=0.11163049134349949, intercept=29.583288500039686, rvalue=0.09850893493894966, pvalue=0.6321074726596605, stderr=0.23018875396103017)"
      ]
     },
     "execution_count": 6,
     "metadata": {},
     "output_type": "execute_result"
    }
   ],
   "source": [
    "# Calculate the coefficient of best fit line or curve\n",
    "x = [21,22,23,4,5,6,77,8,9,10,31,32,33,34,35,36,37,18,49,50,100,10,32,49,10,10]\n",
    "y = [88,12,23,3,6,8,9,12,27,36,34,77,60,35,36,37,18,49,50,100,10,32,49,10,10,22]\n",
    "\n",
    "m, c = np.polyfit(x,y,1)\n",
    "print(\"m = \", m, \"and c = \", c)\n",
    "# Notes: degree \"1\"=linear polynomial, \"2\"=quadratic, \"3\"=cubic etc.\n",
    "# Notes: output is in form y=mx + c, y=ax**2+bx+c, y=ax**3+bx**2+cx+d etc.\n",
    "print()\n",
    "\n",
    "# Extra practice: find corrcoef \n",
    "temp_matrix = np.corrcoef(x,y)\n",
    "print(temp_matrix[0,1])\n",
    "\n",
    "\n",
    "from scipy.stats import linregress\n",
    "linregress(x,y)\n",
    "# r-value is corr coeff (same output as above)\n",
    "# since p-value is 0.6 > 0.05, we CANNOT reject null hypothesis \n",
    "# p-value = how often we observe null hypo to be true (that there is no corr between the two, that r value is zero)\n",
    "# in this case since p-value for this data set is 0.6 > 0.05 (we ownself prescribe), it's frequent for us to observe that the null hypo is true, cannot reject null hypo"
   ]
  },
  {
   "cell_type": "markdown",
   "metadata": {
    "colab_type": "text",
    "id": "c6f0e9yXra37"
   },
   "source": [
    "# 7. [BONUS] Plot X, Y and Best Fit Line\n",
    "\n",
    "**Write a function to calculate best fit.**\n",
    "\n",
    "![alt text](https://i.imgur.com/B43vOV0.jpg)[1]\n",
    "\n",
    "[1]: https://www.mathsisfun.com/data/least-squares-regression.html \"Least Squares Regression\""
   ]
  },
  {
   "cell_type": "code",
   "execution_count": 37,
   "metadata": {
    "colab": {},
    "colab_type": "code",
    "id": "-jouTQjemxT1"
   },
   "outputs": [
    {
     "name": "stdout",
     "output_type": "stream",
     "text": [
      "Y1 = 0.92(X1) + 0.8\n"
     ]
    },
    {
     "data": {
      "image/png": "[encoded data removed]",
      "text/plain": [
       "<Figure size 432x288 with 1 Axes>"
      ]
     },
     "metadata": {
      "needs_background": "light"
     },
     "output_type": "display_data"
    }
   ],
   "source": [
    "# sample points \n",
    "X1 = np.array([0, 5, 10, 15, 20])\n",
    "Y1 = np.array([0, 7, 10, 13, 20])\n",
    "\n",
    "# solve for coefficients m and c\n",
    "def best_fit(X, Y):\n",
    "    '''returns coefficients m and c where \n",
    "    c is Y-intercept\n",
    "    m is coeff of X / gradient\n",
    "    of linear regression graph/line that minimises sum of squares between all data points and the line itself'''\n",
    "\n",
    "    m, c = np.polyfit(X, Y, 1)\n",
    "    return m, c\n",
    "\n",
    "# solution\n",
    "m1, c1 = best_fit(X1, Y1)\n",
    "\n",
    "#best fit line:\n",
    "#y = 0.80 + 0.92x\n",
    "print(f\"Y1 = {str(round(m1,2))}(X1) + {c1}\")\n",
    "\n",
    "# plot points and fit line\n",
    "# MEGAN NOTE: line couldn't be plotted originally because X1 and Y1 were lists which couldn't be multiplied against float value m1\n",
    "# MEGAN NOTE: so converted X1 and Y1 into numpy arrays \n",
    "plt.plot(X1, Y1, 'o')\n",
    "plt.plot(X1, (m1*X1) + c1)\n",
    "plt.show()"
   ]
  },
  {
   "cell_type": "code",
   "execution_count": 9,
   "metadata": {},
   "outputs": [
    {
     "name": "stdout",
     "output_type": "stream",
     "text": [
      "Y = 0.92(X) + 0.8\n"
     ]
    },
    {
     "data": {
      "image/png": "[encoded data removed]",
      "text/plain": [
       "<Figure size 432x288 with 1 Axes>"
      ]
     },
     "metadata": {},
     "output_type": "display_data"
    }
   ],
   "source": [
    "#DO THE SAME THING AS ABOVE BUT INSTEAD OF USING POLYFIT FUNCTION, USE THE MANUAL FORMULAS PROVIDED ABOVE.\n",
    "# sample points \n",
    "X = np.array([0, 5, 10, 15, 20])\n",
    "Y = np.array([0, 7, 10, 13, 20])\n",
    "\n",
    "# solve for coefficients a and b\n",
    "def best_fit(X, Y):\n",
    "    import numpy as np\n",
    "    X_squared = X**2 #step1\n",
    "    XY = X*Y #step1\n",
    "    sum_of_X = np.sum(X)\n",
    "    sum_of_Y = np.sum(Y)\n",
    "    sum_of_X_squared = np.sum(X_squared) #step2\n",
    "    sum_of_XY = np.sum(XY) #step2\n",
    "    N = len(X)\n",
    "    m = (N*sum_of_XY - sum_of_X * sum_of_Y) / (N*sum_of_X_squared - sum_of_X**2) #step3\n",
    "    b = (sum_of_Y - m*sum_of_X) / N #step4\n",
    "    return m, b\n",
    "\n",
    "    \n",
    "\n",
    "# solution\n",
    "m, b = best_fit(X, Y)\n",
    "print(f\"Y = {str(round(m,2))}(X) + {b}\")\n",
    "\n",
    "#best fit line:\n",
    "#y = 0.80 + 0.92x\n",
    "\n",
    "# plot points and fit line\n",
    "# MEGAN NOTE: line couldn't be plotted originally because X1 and Y1 were lists which couldn't be multiplied against float value m1\n",
    "# MEGAN NOTE: so converted X1 and Y1 into numpy arrays \n",
    "plt.plot(X, Y, 'o')\n",
    "plt.plot(X, (m*X) + b)\n",
    "plt.show()"
   ]
  },
  {
   "cell_type": "markdown",
   "metadata": {
    "colab_type": "text",
    "id": "HfL9jnC4txJH"
   },
   "source": [
    "# 8. plot a histogram of a set of observations - centered\n",
    "\n",
    "Experiment with various number of bins\n",
    "\n",
    "        y = x - np.mean(x)"
   ]
  },
  {
   "cell_type": "code",
   "execution_count": 12,
   "metadata": {
    "colab": {},
    "colab_type": "code",
    "id": "bw-YGxBEmxT5"
   },
   "outputs": [
    {
     "name": "stdout",
     "output_type": "stream",
     "text": [
      "30.476190476190474\n"
     ]
    },
    {
     "data": {
      "image/png": "[encoded data removed]",
      "text/plain": [
       "<Figure size 432x288 with 1 Axes>"
      ]
     },
     "metadata": {},
     "output_type": "display_data"
    }
   ],
   "source": [
    "# plot a histogram of a set of observations - centered\n",
    "# experiment with various number of bins\n",
    "x = [21,22,23,4,5,6,77,8,9,10,31,32,33,34,35,36,37,18,49,50,100]\n",
    "print(np.mean(x))\n",
    "y = x - np.mean(x)\n",
    "num_bins = 10\n",
    "n, bins, patches = plt.hist(y, bins = num_bins)\n",
    "plt.xticks(bins)\n",
    "plt.grid(True)"
   ]
  },
  {
   "cell_type": "markdown",
   "metadata": {
    "colab_type": "text",
    "id": "IvLbO4hot_oK"
   },
   "source": [
    "# 9. plot a histogram of a set of observations - scaled\n",
    "\n",
    "        y = x / np.std(x)"
   ]
  },
  {
   "cell_type": "code",
   "execution_count": 22,
   "metadata": {
    "colab": {},
    "colab_type": "code",
    "id": "rKkxbfpGmxT7",
    "scrolled": true
   },
   "outputs": [
    {
     "data": {
      "image/png": "[encoded data removed]",
      "text/plain": [
       "<Figure size 432x288 with 1 Axes>"
      ]
     },
     "metadata": {},
     "output_type": "display_data"
    }
   ],
   "source": [
    "# plot a histogram of a set of observations - scaled\n",
    "# experiment with various number of bins\n",
    "x = [21,22,23,4,5,6,77,8,9,10,31,32,33,34,35,36,37,18,49,50,100]\n",
    "y = x / np.std(x)\n",
    "num_bins=10\n",
    "m, bins, patches = plt.hist(y, bins=num_bins)\n",
    "plt.xticks(bins)\n",
    "plt.grid(True)"
   ]
  },
  {
   "cell_type": "markdown",
   "metadata": {
    "colab_type": "text",
    "id": "WhM8Zio5uQ65"
   },
   "source": [
    "# 10. [BONUS] Create a probplot against normal distribution\n",
    "\n",
    "Check following methods:\n",
    "\n",
    "1. stats.loggamma.rvs\n",
    "2. stats.probplot\n",
    "3. stats.norm\n",
    "4. stats.boxcox"
   ]
  },
  {
   "cell_type": "code",
   "execution_count": 20,
   "metadata": {
    "colab": {
     "base_uri": "https://localhost:8080/",
     "height": 151
    },
    "colab_type": "code",
    "executionInfo": {
     "elapsed": 723,
     "status": "ok",
     "timestamp": 1552693315169,
     "user": {
      "displayName": "Ibrahim Faisal",
      "photoUrl": "",
      "userId": "02685917636347920688"
     },
     "user_tz": -660
    },
    "id": "2X4WJFBxmxT_",
    "outputId": "8c130b45-aba0-488e-e643-44b4f6d11577"
   },
   "outputs": [
    {
     "data": {
      "image/png": "[encoded data removed]",
      "text/plain": [
       "<Figure size 432x288 with 1 Axes>"
      ]
     },
     "metadata": {},
     "output_type": "display_data"
    },
    {
     "data": {
      "image/png": "[encoded data removed]",
      "text/plain": [
       "<Figure size 432x288 with 1 Axes>"
      ]
     },
     "metadata": {},
     "output_type": "display_data"
    },
    {
     "data": {
      "image/png": "[encoded data removed]",
      "text/plain": [
       "<Figure size 432x288 with 1 Axes>"
      ]
     },
     "metadata": {},
     "output_type": "display_data"
    }
   ],
   "source": [
    "from scipy import stats\n",
    "import matplotlib.pyplot as plt\n",
    "import numpy as np\n",
    "\n",
    "fig = plt.figure()  \n",
    "ax1 = fig.add_subplot(211)\n",
    "x = stats.loggamma.rvs(5, size=500) + 5\n",
    "stats.probplot(x, plot=plt)\n",
    "plt.show()\n",
    "\n",
    "y = stats.norm.rvs(size=500)\n",
    "stats.probplot(y,plot=plt)\n",
    "plt.show()\n",
    "\n",
    "z, _ = stats.boxcox(x)\n",
    "stats.probplot(z, plot=plt)\n",
    "plt.show()\n",
    "\n"
   ]
  },
  {
   "cell_type": "markdown",
   "metadata": {
    "colab_type": "text",
    "id": "2X66iINLvAun"
   },
   "source": [
    "# 11. [BONUS] Calculate Mean Confidence Interval\n",
    "\n",
    "Check following methods:\n",
    "\n",
    "1. scipy.stats.sem\n",
    "2. scipy.stats.t.ppf"
   ]
  },
  {
   "cell_type": "code",
   "execution_count": 70,
   "metadata": {
    "scrolled": true
   },
   "outputs": [
    {
     "name": "stdout",
     "output_type": "stream",
     "text": [
      "Help on function sem in module scipy.stats.stats:\n",
      "\n",
      "sem(a, axis=0, ddof=1, nan_policy='propagate')\n",
      "    Compute standard error of the mean.\n",
      "    \n",
      "    Calculate the standard error of the mean (or standard error of\n",
      "    measurement) of the values in the input array.\n",
      "    \n",
      "    Parameters\n",
      "    ----------\n",
      "    a : array_like\n",
      "        An array containing the values for which the standard error is\n",
      "        returned.\n",
      "    axis : int or None, optional\n",
      "        Axis along which to operate. Default is 0. If None, compute over\n",
      "        the whole array `a`.\n",
      "    ddof : int, optional\n",
      "        Delta degrees-of-freedom. How many degrees of freedom to adjust\n",
      "        for bias in limited samples relative to the population estimate\n",
      "        of variance. Defaults to 1.\n",
      "    nan_policy : {'propagate', 'raise', 'omit'}, optional\n",
      "        Defines how to handle when input contains nan.\n",
      "        The following options are available (default is 'propagate'):\n",
      "    \n",
      "          * 'propagate': returns nan\n",
      "          * 'raise': throws an error\n",
      "          * 'omit': performs the calculations ignoring nan values\n",
      "    \n",
      "    Returns\n",
      "    -------\n",
      "    s : ndarray or float\n",
      "        The standard error of the mean in the sample(s), along the input axis.\n",
      "    \n",
      "    Notes\n",
      "    -----\n",
      "    The default value for `ddof` is different to the default (0) used by other\n",
      "    ddof containing routines, such as np.std and np.nanstd.\n",
      "    \n",
      "    Examples\n",
      "    --------\n",
      "    Find standard error along the first axis:\n",
      "    \n",
      "    >>> from scipy import stats\n",
      "    >>> a = np.arange(20).reshape(5,4)\n",
      "    >>> stats.sem(a)\n",
      "    array([ 2.8284,  2.8284,  2.8284,  2.8284])\n",
      "    \n",
      "    Find standard error across the whole array, using n degrees of freedom:\n",
      "    \n",
      "    >>> stats.sem(a, axis=None, ddof=0)\n",
      "    1.2893796958227628\n",
      "\n"
     ]
    }
   ],
   "source": [
    "help(stats.sem)"
   ]
  },
  {
   "cell_type": "code",
   "execution_count": 71,
   "metadata": {
    "scrolled": true
   },
   "outputs": [
    {
     "name": "stdout",
     "output_type": "stream",
     "text": [
      "Help on method ppf in module scipy.stats._distn_infrastructure:\n",
      "\n",
      "ppf(q, *args, **kwds) method of scipy.stats._continuous_distns.t_gen instance\n",
      "    Percent point function (inverse of `cdf`) at q of the given RV.\n",
      "    \n",
      "    Parameters\n",
      "    ----------\n",
      "    q : array_like\n",
      "        lower tail probability\n",
      "    arg1, arg2, arg3,... : array_like\n",
      "        The shape parameter(s) for the distribution (see docstring of the\n",
      "        instance object for more information)\n",
      "    loc : array_like, optional\n",
      "        location parameter (default=0)\n",
      "    scale : array_like, optional\n",
      "        scale parameter (default=1)\n",
      "    \n",
      "    Returns\n",
      "    -------\n",
      "    x : array_like\n",
      "        quantile corresponding to the lower tail probability q.\n",
      "\n"
     ]
    }
   ],
   "source": [
    "help(stats.t.ppf)"
   ]
  },
  {
   "cell_type": "code",
   "execution_count": 77,
   "metadata": {
    "colab": {
     "base_uri": "https://localhost:8080/",
     "height": 34
    },
    "colab_type": "code",
    "executionInfo": {
     "elapsed": 727,
     "status": "ok",
     "timestamp": 1552693467297,
     "user": {
      "displayName": "Ibrahim Faisal",
      "photoUrl": "",
      "userId": "02685917636347920688"
     },
     "user_tz": -660
    },
    "id": "RbRSVOnlmxUC",
    "outputId": "6cca7647-c0cb-4ba6-fc35-8596a2d40591"
   },
   "outputs": [
    {
     "name": "stdout",
     "output_type": "stream",
     "text": [
      "(30.476190476190474, 30.476190476190474, 30.476190476190474)\n"
     ]
    }
   ],
   "source": [
    "import numpy as np\n",
    "import scipy.stats\n",
    "\n",
    "\n",
    "def mean_confidence_interval(data, confidence=0.95):\n",
    "    # Calculate m, h\n",
    "    m, se = np.mean(data), scipy.stats.sem(data)\n",
    "    \n",
    "    #MEGAN: IDK HOW TO GET H FROM SE.\n",
    "    h = 0\n",
    "    return m, m-h, m+h\n",
    "\n",
    "data = [21,22,23,4,5,6,77,8,9,10,31,32,33,34,35,36,37,18,49,50,100]\n",
    "print(mean_confidence_interval(data))"
   ]
  },
  {
   "cell_type": "markdown",
   "metadata": {
    "colab_type": "text",
    "id": "6r9IVMcopfhs"
   },
   "source": [
    "\n",
    "\n",
    "---\n",
    "\n",
    "\n",
    "\n",
    "---\n",
    "\n",
    "\n",
    "\n",
    "> > > > > > > > > © 2021 Institute of Data\n",
    "\n",
    "\n",
    "---\n",
    "\n",
    "\n",
    "\n",
    "---\n",
    "\n",
    "\n",
    "\n"
   ]
  }
 ],
 "metadata": {
  "colab": {
   "collapsed_sections": [],
   "name": "Lab 1.1.4 Statistics - part 2 Lab.ipynb",
   "provenance": [
    {
     "file_id": "https://github.com/ikfaisal/dsia/blob/master/Statistics_part_2.ipynb",
     "timestamp": 1552461263669
    }
   ]
  },
  "kernelspec": {
   "display_name": "Python 3",
   "language": "python",
   "name": "python3"
  },
  "language_info": {
   "codemirror_mode": {
    "name": "ipython",
    "version": 3
   },
   "file_extension": ".py",
   "mimetype": "text/x-python",
   "name": "python",
   "nbconvert_exporter": "python",
   "pygments_lexer": "ipython3",
   "version": "3.8.5"
  }
 },
 "nbformat": 4,
 "nbformat_minor": 1
}
